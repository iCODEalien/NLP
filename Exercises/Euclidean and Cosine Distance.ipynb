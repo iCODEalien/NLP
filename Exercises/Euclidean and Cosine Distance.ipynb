{
 "cells": [
  {
   "cell_type": "code",
   "execution_count": 1,
   "id": "10bf0d00",
   "metadata": {},
   "outputs": [],
   "source": [
    "import numpy as np\n",
    "import pandas as pd\n",
    "import math"
   ]
  },
  {
   "cell_type": "code",
   "execution_count": 2,
   "id": "b91a1f89",
   "metadata": {},
   "outputs": [],
   "source": [
    "# sentences I want to CountVectorize\n",
    "sentences = ['I hate eggs',\n",
    "            'I hate beef',\n",
    "            'I like chicken and hate pork',\n",
    "            'Hate Pork and like squid']"
   ]
  },
  {
   "cell_type": "code",
   "execution_count": 3,
   "id": "414a1edc",
   "metadata": {},
   "outputs": [
    {
     "name": "stdout",
     "output_type": "stream",
     "text": [
      "['chicken', 'and', 'hate', 'like', 'beef', 'eggs', 'squid', 'pork', 'Hate', 'I', 'Pork'] size :  11\n"
     ]
    }
   ],
   "source": [
    "# finding the vocabulary\n",
    "vocabulary = list(set((' '.join(sentences)).split()))\n",
    "print(vocabulary, 'size : ',len(vocabulary))"
   ]
  },
  {
   "cell_type": "code",
   "execution_count": 4,
   "id": "bc0a5dd4",
   "metadata": {},
   "outputs": [
    {
     "data": {
      "text/plain": [
       "{'chicken': [0, 0, 1, 0],\n",
       " 'and': [0, 0, 1, 1],\n",
       " 'hate': [1, 1, 1, 0],\n",
       " 'like': [0, 0, 1, 1],\n",
       " 'beef': [0, 1, 0, 0],\n",
       " 'eggs': [1, 0, 0, 0],\n",
       " 'squid': [0, 0, 0, 1],\n",
       " 'pork': [0, 0, 1, 0],\n",
       " 'Hate': [0, 0, 0, 1],\n",
       " 'I': [1, 1, 1, 0],\n",
       " 'Pork': [0, 0, 0, 1]}"
      ]
     },
     "execution_count": 4,
     "metadata": {},
     "output_type": "execute_result"
    }
   ],
   "source": [
    "# Basic CountVectorizer\n",
    "# creating an empty dictionary\n",
    "vector_dict = {}\n",
    "\n",
    "# populate the dictionary\n",
    "for sentence in sentences:\n",
    "    for word in vocabulary:\n",
    "        #print('*'*50)\n",
    "        #print(word)\n",
    "        similar_words = [ x for x in sentence.split(' ') if x == word]\n",
    "        #print('similar_words : ',similar_words)\n",
    "        if word not in vector_dict.keys() :\n",
    "            vector_dict[word] = [len(similar_words)]\n",
    "            #print(vector_dict[word])\n",
    "        elif word in vector_dict.keys():\n",
    "            vector_dict[word] = vector_dict[word] + [0 if len(similar_words) == 0 else len(similar_words)]\n",
    "            #print('updated : ',vector_dict[word])\n",
    "vector_dict        "
   ]
  },
  {
   "cell_type": "code",
   "execution_count": 5,
   "id": "f43d6194",
   "metadata": {},
   "outputs": [
    {
     "data": {
      "text/plain": [
       "array([[0, 0, 1, 0, 0, 1, 0, 0, 0, 1, 0],\n",
       "       [0, 0, 1, 0, 1, 0, 0, 0, 0, 1, 0],\n",
       "       [1, 1, 1, 1, 0, 0, 0, 1, 0, 1, 0],\n",
       "       [0, 1, 0, 1, 0, 0, 1, 0, 1, 0, 1]])"
      ]
     },
     "execution_count": 5,
     "metadata": {},
     "output_type": "execute_result"
    }
   ],
   "source": [
    "# CountVectorized sentences\n",
    "CountVectorized_sentences = np.array(list(vector_dict.values())).T\n",
    "CountVectorized_sentences"
   ]
  },
  {
   "cell_type": "code",
   "execution_count": 6,
   "id": "8a0231f6",
   "metadata": {},
   "outputs": [
    {
     "data": {
      "text/plain": [
       "array([0.        , 0.        , 0.57735027, 0.        , 0.        ,\n",
       "       0.57735027, 0.        , 0.        , 0.        , 0.57735027,\n",
       "       0.        ])"
      ]
     },
     "execution_count": 6,
     "metadata": {},
     "output_type": "execute_result"
    }
   ],
   "source": [
    "# Normalizing the vectors\n",
    "normalized_vector = CountVectorized_sentences[0]/np.linalg.norm(CountVectorized_sentences[0])\n",
    "normalized_vector"
   ]
  },
  {
   "cell_type": "code",
   "execution_count": 7,
   "id": "4646df8b",
   "metadata": {},
   "outputs": [],
   "source": [
    "# using sklearn's normalize()\n",
    "from sklearn.preprocessing import normalize"
   ]
  },
  {
   "cell_type": "code",
   "execution_count": 8,
   "id": "c29ffce5",
   "metadata": {},
   "outputs": [
    {
     "data": {
      "text/plain": [
       "array([[0.        , 0.        , 0.57735027, 0.        , 0.        ,\n",
       "        0.57735027, 0.        , 0.        , 0.        , 0.57735027,\n",
       "        0.        ]])"
      ]
     },
     "execution_count": 8,
     "metadata": {},
     "output_type": "execute_result"
    }
   ],
   "source": [
    "# normalizing the vector\n",
    "normalize([CountVectorized_sentences[0]])"
   ]
  },
  {
   "cell_type": "raw",
   "id": "cfb6ae00",
   "metadata": {},
   "source": [
    "# function to find the angle between the vectors\n",
    "def angle_between_vectors(v1,v2):\n",
    "    # calculate the magnitudes\n",
    "    u1 = v1/np.linalg.norm(v1)\n",
    "    u2 = v2/np.linalg.norm(v2)\n",
    "    \n",
    "    # The dot product of vectors\n",
    "    dot_product = np.clip(np.dot(u1,u2),-1.0,1.0)\n",
    "    \n",
    "    # The angle between them\n",
    "    angle_in_radians = np.arccos(dot_product)\n",
    "    angle_in_degrees = np.degrees(angle_in_radians)\n",
    "    \n",
    "    return cosine_angle\n",
    "    "
   ]
  },
  {
   "cell_type": "markdown",
   "id": "9352826e",
   "metadata": {},
   "source": [
    "print(angle_between_vectors(CountVectorized_sentences[1],CountVectorized_sentences[1]))"
   ]
  },
  {
   "cell_type": "code",
   "execution_count": 9,
   "id": "562c9bc2",
   "metadata": {},
   "outputs": [],
   "source": [
    "# define a class Cosine_Similarity\n",
    "\n",
    "class Cosine_Similarity():\n",
    "    \n",
    "    @staticmethod\n",
    "    def cosine_similarity(v1,v2):\n",
    "        # calculate the magnitudes\n",
    "        u1 = v1/np.linalg.norm(v1)\n",
    "        u2 = v2/np.linalg.norm(v2)\n",
    "    \n",
    "        # The dot product of vectors\n",
    "        cos_sim = np.dot(u1,u2)\n",
    "        cos_sim = np.clip(cos_sim,-1.0,1.0)\n",
    "\n",
    "        return cos_sim\n",
    "    \n",
    "    def angle_between_vectors(self,v1,v2):\n",
    "        \n",
    "        dot_product = self.cosine_similarity(v1,v2)\n",
    "        \n",
    "        if np.abs(dot_product) > 1:\n",
    "            raise ValueError('Invalid dot product, Vectors are not normalized') \n",
    "        \n",
    "        # The angle between them\n",
    "        angle_in_radians = np.arccos(dot_product)\n",
    "        angle_in_degrees = np.degrees(angle_in_radians)\n",
    "        \n",
    "        return angle_in_radians, angle_in_degrees\n",
    "        "
   ]
  },
  {
   "cell_type": "code",
   "execution_count": 10,
   "id": "cc186322",
   "metadata": {},
   "outputs": [
    {
     "data": {
      "text/plain": [
       "[(array([0, 0, 1, 0, 0, 1, 0, 0, 0, 1, 0]),\n",
       "  array([0, 0, 1, 0, 1, 0, 0, 0, 0, 1, 0])),\n",
       " (array([0, 0, 1, 0, 0, 1, 0, 0, 0, 1, 0]),\n",
       "  array([1, 1, 1, 1, 0, 0, 0, 1, 0, 1, 0])),\n",
       " (array([0, 0, 1, 0, 0, 1, 0, 0, 0, 1, 0]),\n",
       "  array([0, 1, 0, 1, 0, 0, 1, 0, 1, 0, 1])),\n",
       " (array([0, 0, 1, 0, 1, 0, 0, 0, 0, 1, 0]),\n",
       "  array([1, 1, 1, 1, 0, 0, 0, 1, 0, 1, 0])),\n",
       " (array([0, 0, 1, 0, 1, 0, 0, 0, 0, 1, 0]),\n",
       "  array([0, 1, 0, 1, 0, 0, 1, 0, 1, 0, 1])),\n",
       " (array([1, 1, 1, 1, 0, 0, 0, 1, 0, 1, 0]),\n",
       "  array([0, 1, 0, 1, 0, 0, 1, 0, 1, 0, 1]))]"
      ]
     },
     "execution_count": 10,
     "metadata": {},
     "output_type": "execute_result"
    }
   ],
   "source": [
    "# getting combinations of vectors\n",
    "# importing combinations from itertools\n",
    "from itertools import combinations\n",
    "\n",
    "# creating a list of combinations from the given vectors\n",
    "vec_combi = list(combinations(CountVectorized_sentences,2))\n",
    "vec_combi"
   ]
  },
  {
   "cell_type": "code",
   "execution_count": 32,
   "id": "87ae37f4",
   "metadata": {
    "scrolled": true
   },
   "outputs": [
    {
     "data": {
      "text/html": [
       "<div>\n",
       "<style scoped>\n",
       "    .dataframe tbody tr th:only-of-type {\n",
       "        vertical-align: middle;\n",
       "    }\n",
       "\n",
       "    .dataframe tbody tr th {\n",
       "        vertical-align: top;\n",
       "    }\n",
       "\n",
       "    .dataframe thead th {\n",
       "        text-align: right;\n",
       "    }\n",
       "</style>\n",
       "<table border=\"1\" class=\"dataframe\">\n",
       "  <thead>\n",
       "    <tr style=\"text-align: right;\">\n",
       "      <th></th>\n",
       "      <th>vector_1</th>\n",
       "      <th>vector_2</th>\n",
       "      <th>angle_in_radians</th>\n",
       "      <th>angle_in_degrees</th>\n",
       "      <th>Cosine_Similarity</th>\n",
       "      <th>rank</th>\n",
       "    </tr>\n",
       "  </thead>\n",
       "  <tbody>\n",
       "    <tr>\n",
       "      <th>0</th>\n",
       "      <td>[0, 0, 1, 0, 0, 1, 0, 0, 0, 1, 0]</td>\n",
       "      <td>[0, 0, 1, 0, 1, 0, 0, 0, 0, 1, 0]</td>\n",
       "      <td>0.841069</td>\n",
       "      <td>48.189685</td>\n",
       "      <td>0.666667</td>\n",
       "      <td>1.0</td>\n",
       "    </tr>\n",
       "    <tr>\n",
       "      <th>1</th>\n",
       "      <td>[0, 0, 1, 0, 0, 1, 0, 0, 0, 1, 0]</td>\n",
       "      <td>[1, 1, 1, 1, 0, 0, 0, 1, 0, 1, 0]</td>\n",
       "      <td>1.079914</td>\n",
       "      <td>61.874494</td>\n",
       "      <td>0.471405</td>\n",
       "      <td>2.0</td>\n",
       "    </tr>\n",
       "    <tr>\n",
       "      <th>3</th>\n",
       "      <td>[0, 0, 1, 0, 1, 0, 0, 0, 0, 1, 0]</td>\n",
       "      <td>[1, 1, 1, 1, 0, 0, 0, 1, 0, 1, 0]</td>\n",
       "      <td>1.079914</td>\n",
       "      <td>61.874494</td>\n",
       "      <td>0.471405</td>\n",
       "      <td>2.0</td>\n",
       "    </tr>\n",
       "    <tr>\n",
       "      <th>5</th>\n",
       "      <td>[1, 1, 1, 1, 0, 0, 0, 1, 0, 1, 0]</td>\n",
       "      <td>[0, 1, 0, 1, 0, 0, 1, 0, 1, 0, 1]</td>\n",
       "      <td>1.197004</td>\n",
       "      <td>68.583286</td>\n",
       "      <td>0.365148</td>\n",
       "      <td>3.0</td>\n",
       "    </tr>\n",
       "    <tr>\n",
       "      <th>2</th>\n",
       "      <td>[0, 0, 1, 0, 0, 1, 0, 0, 0, 1, 0]</td>\n",
       "      <td>[0, 1, 0, 1, 0, 0, 1, 0, 1, 0, 1]</td>\n",
       "      <td>1.570796</td>\n",
       "      <td>90.000000</td>\n",
       "      <td>0.000000</td>\n",
       "      <td>4.0</td>\n",
       "    </tr>\n",
       "    <tr>\n",
       "      <th>4</th>\n",
       "      <td>[0, 0, 1, 0, 1, 0, 0, 0, 0, 1, 0]</td>\n",
       "      <td>[0, 1, 0, 1, 0, 0, 1, 0, 1, 0, 1]</td>\n",
       "      <td>1.570796</td>\n",
       "      <td>90.000000</td>\n",
       "      <td>0.000000</td>\n",
       "      <td>4.0</td>\n",
       "    </tr>\n",
       "  </tbody>\n",
       "</table>\n",
       "</div>"
      ],
      "text/plain": [
       "                            vector_1                           vector_2  \\\n",
       "0  [0, 0, 1, 0, 0, 1, 0, 0, 0, 1, 0]  [0, 0, 1, 0, 1, 0, 0, 0, 0, 1, 0]   \n",
       "1  [0, 0, 1, 0, 0, 1, 0, 0, 0, 1, 0]  [1, 1, 1, 1, 0, 0, 0, 1, 0, 1, 0]   \n",
       "3  [0, 0, 1, 0, 1, 0, 0, 0, 0, 1, 0]  [1, 1, 1, 1, 0, 0, 0, 1, 0, 1, 0]   \n",
       "5  [1, 1, 1, 1, 0, 0, 0, 1, 0, 1, 0]  [0, 1, 0, 1, 0, 0, 1, 0, 1, 0, 1]   \n",
       "2  [0, 0, 1, 0, 0, 1, 0, 0, 0, 1, 0]  [0, 1, 0, 1, 0, 0, 1, 0, 1, 0, 1]   \n",
       "4  [0, 0, 1, 0, 1, 0, 0, 0, 0, 1, 0]  [0, 1, 0, 1, 0, 0, 1, 0, 1, 0, 1]   \n",
       "\n",
       "   angle_in_radians  angle_in_degrees  Cosine_Similarity  rank  \n",
       "0          0.841069         48.189685           0.666667   1.0  \n",
       "1          1.079914         61.874494           0.471405   2.0  \n",
       "3          1.079914         61.874494           0.471405   2.0  \n",
       "5          1.197004         68.583286           0.365148   3.0  \n",
       "2          1.570796         90.000000           0.000000   4.0  \n",
       "4          1.570796         90.000000           0.000000   4.0  "
      ]
     },
     "execution_count": 32,
     "metadata": {},
     "output_type": "execute_result"
    }
   ],
   "source": [
    "# creating a dataframe with the combination of vectors\n",
    "vec_combi_df = pd.DataFrame(vec_combi, columns = ['vector_1', 'vector_2'])\n",
    "#vec_combi_df\n",
    "\n",
    "# creating an instance of class Cosine similarity\n",
    "cosine_sim = Cosine_Similarity()\n",
    "\n",
    "# finding out the angle between the vectors\n",
    "vec_combi_df['angle_in_radians'], vec_combi_df['angle_in_degrees'] = zip(*vec_combi_df.apply(lambda row: cosine_sim.angle_between_vectors(row['vector_1'],row['vector_2']),axis = 1))\n",
    "\n",
    "vec_combi_df['Cosine_Similarity'] = vec_combi_df.apply(lambda row: cosine_sim.cosine_similarity(row['vector_1'],row['vector_2']), axis = 1)\n",
    "\n",
    "# finding the rank for the combination\n",
    "vec_combi_df['rank'] = vec_combi_df['Cosine_Similarity'].rank(method = 'dense', ascending = False)\n",
    "\n",
    "# sorting the values based on the ranks\n",
    "vec_combi_df.sort_values(by = 'rank')\n"
   ]
  },
  {
   "cell_type": "raw",
   "id": "74d674cd",
   "metadata": {},
   "source": [
    "# mapping the sentences\n",
    "sent_vect = zip(sentences,CountVectorized_sentences)\n",
    "\n",
    "map_lookup = pd.DataFrame(sent_vect, columns = ['sentences', 'vectors'])\n",
    "\n",
    "# Arrays cannot be hashed hence we convert them into tuples.\n",
    "map_lookup.insert(2,'tuple_vector', map_lookup['vectors'].apply(tuple))\n",
    "map_lookup"
   ]
  },
  {
   "cell_type": "code",
   "execution_count": 34,
   "id": "1f3ec8f5",
   "metadata": {},
   "outputs": [],
   "source": [
    "# creating tuple columns so we can map\n",
    "vec_combi_df.insert(2,'tuple_vector1',vec_combi_df['vector_1'].apply(tuple))\n",
    "vec_combi_df.insert(3,'tuple_vector2',vec_combi_df['vector_2'].apply(tuple))"
   ]
  },
  {
   "cell_type": "code",
   "execution_count": 35,
   "id": "49d096e7",
   "metadata": {},
   "outputs": [
    {
     "data": {
      "text/html": [
       "<div>\n",
       "<style scoped>\n",
       "    .dataframe tbody tr th:only-of-type {\n",
       "        vertical-align: middle;\n",
       "    }\n",
       "\n",
       "    .dataframe tbody tr th {\n",
       "        vertical-align: top;\n",
       "    }\n",
       "\n",
       "    .dataframe thead th {\n",
       "        text-align: right;\n",
       "    }\n",
       "</style>\n",
       "<table border=\"1\" class=\"dataframe\">\n",
       "  <thead>\n",
       "    <tr style=\"text-align: right;\">\n",
       "      <th></th>\n",
       "      <th>vector_1</th>\n",
       "      <th>vector_2</th>\n",
       "      <th>tuple_vector1</th>\n",
       "      <th>tuple_vector2</th>\n",
       "      <th>angle_in_radians</th>\n",
       "      <th>angle_in_degrees</th>\n",
       "      <th>Cosine_Similarity</th>\n",
       "      <th>rank</th>\n",
       "    </tr>\n",
       "  </thead>\n",
       "  <tbody>\n",
       "    <tr>\n",
       "      <th>0</th>\n",
       "      <td>[0, 0, 1, 0, 0, 1, 0, 0, 0, 1, 0]</td>\n",
       "      <td>[0, 0, 1, 0, 1, 0, 0, 0, 0, 1, 0]</td>\n",
       "      <td>(0, 0, 1, 0, 0, 1, 0, 0, 0, 1, 0)</td>\n",
       "      <td>(0, 0, 1, 0, 1, 0, 0, 0, 0, 1, 0)</td>\n",
       "      <td>0.841069</td>\n",
       "      <td>48.189685</td>\n",
       "      <td>0.666667</td>\n",
       "      <td>1.0</td>\n",
       "    </tr>\n",
       "    <tr>\n",
       "      <th>1</th>\n",
       "      <td>[0, 0, 1, 0, 0, 1, 0, 0, 0, 1, 0]</td>\n",
       "      <td>[1, 1, 1, 1, 0, 0, 0, 1, 0, 1, 0]</td>\n",
       "      <td>(0, 0, 1, 0, 0, 1, 0, 0, 0, 1, 0)</td>\n",
       "      <td>(1, 1, 1, 1, 0, 0, 0, 1, 0, 1, 0)</td>\n",
       "      <td>1.079914</td>\n",
       "      <td>61.874494</td>\n",
       "      <td>0.471405</td>\n",
       "      <td>2.0</td>\n",
       "    </tr>\n",
       "    <tr>\n",
       "      <th>2</th>\n",
       "      <td>[0, 0, 1, 0, 0, 1, 0, 0, 0, 1, 0]</td>\n",
       "      <td>[0, 1, 0, 1, 0, 0, 1, 0, 1, 0, 1]</td>\n",
       "      <td>(0, 0, 1, 0, 0, 1, 0, 0, 0, 1, 0)</td>\n",
       "      <td>(0, 1, 0, 1, 0, 0, 1, 0, 1, 0, 1)</td>\n",
       "      <td>1.570796</td>\n",
       "      <td>90.000000</td>\n",
       "      <td>0.000000</td>\n",
       "      <td>4.0</td>\n",
       "    </tr>\n",
       "    <tr>\n",
       "      <th>3</th>\n",
       "      <td>[0, 0, 1, 0, 1, 0, 0, 0, 0, 1, 0]</td>\n",
       "      <td>[1, 1, 1, 1, 0, 0, 0, 1, 0, 1, 0]</td>\n",
       "      <td>(0, 0, 1, 0, 1, 0, 0, 0, 0, 1, 0)</td>\n",
       "      <td>(1, 1, 1, 1, 0, 0, 0, 1, 0, 1, 0)</td>\n",
       "      <td>1.079914</td>\n",
       "      <td>61.874494</td>\n",
       "      <td>0.471405</td>\n",
       "      <td>2.0</td>\n",
       "    </tr>\n",
       "    <tr>\n",
       "      <th>4</th>\n",
       "      <td>[0, 0, 1, 0, 1, 0, 0, 0, 0, 1, 0]</td>\n",
       "      <td>[0, 1, 0, 1, 0, 0, 1, 0, 1, 0, 1]</td>\n",
       "      <td>(0, 0, 1, 0, 1, 0, 0, 0, 0, 1, 0)</td>\n",
       "      <td>(0, 1, 0, 1, 0, 0, 1, 0, 1, 0, 1)</td>\n",
       "      <td>1.570796</td>\n",
       "      <td>90.000000</td>\n",
       "      <td>0.000000</td>\n",
       "      <td>4.0</td>\n",
       "    </tr>\n",
       "    <tr>\n",
       "      <th>5</th>\n",
       "      <td>[1, 1, 1, 1, 0, 0, 0, 1, 0, 1, 0]</td>\n",
       "      <td>[0, 1, 0, 1, 0, 0, 1, 0, 1, 0, 1]</td>\n",
       "      <td>(1, 1, 1, 1, 0, 0, 0, 1, 0, 1, 0)</td>\n",
       "      <td>(0, 1, 0, 1, 0, 0, 1, 0, 1, 0, 1)</td>\n",
       "      <td>1.197004</td>\n",
       "      <td>68.583286</td>\n",
       "      <td>0.365148</td>\n",
       "      <td>3.0</td>\n",
       "    </tr>\n",
       "  </tbody>\n",
       "</table>\n",
       "</div>"
      ],
      "text/plain": [
       "                            vector_1                           vector_2  \\\n",
       "0  [0, 0, 1, 0, 0, 1, 0, 0, 0, 1, 0]  [0, 0, 1, 0, 1, 0, 0, 0, 0, 1, 0]   \n",
       "1  [0, 0, 1, 0, 0, 1, 0, 0, 0, 1, 0]  [1, 1, 1, 1, 0, 0, 0, 1, 0, 1, 0]   \n",
       "2  [0, 0, 1, 0, 0, 1, 0, 0, 0, 1, 0]  [0, 1, 0, 1, 0, 0, 1, 0, 1, 0, 1]   \n",
       "3  [0, 0, 1, 0, 1, 0, 0, 0, 0, 1, 0]  [1, 1, 1, 1, 0, 0, 0, 1, 0, 1, 0]   \n",
       "4  [0, 0, 1, 0, 1, 0, 0, 0, 0, 1, 0]  [0, 1, 0, 1, 0, 0, 1, 0, 1, 0, 1]   \n",
       "5  [1, 1, 1, 1, 0, 0, 0, 1, 0, 1, 0]  [0, 1, 0, 1, 0, 0, 1, 0, 1, 0, 1]   \n",
       "\n",
       "                       tuple_vector1                      tuple_vector2  \\\n",
       "0  (0, 0, 1, 0, 0, 1, 0, 0, 0, 1, 0)  (0, 0, 1, 0, 1, 0, 0, 0, 0, 1, 0)   \n",
       "1  (0, 0, 1, 0, 0, 1, 0, 0, 0, 1, 0)  (1, 1, 1, 1, 0, 0, 0, 1, 0, 1, 0)   \n",
       "2  (0, 0, 1, 0, 0, 1, 0, 0, 0, 1, 0)  (0, 1, 0, 1, 0, 0, 1, 0, 1, 0, 1)   \n",
       "3  (0, 0, 1, 0, 1, 0, 0, 0, 0, 1, 0)  (1, 1, 1, 1, 0, 0, 0, 1, 0, 1, 0)   \n",
       "4  (0, 0, 1, 0, 1, 0, 0, 0, 0, 1, 0)  (0, 1, 0, 1, 0, 0, 1, 0, 1, 0, 1)   \n",
       "5  (1, 1, 1, 1, 0, 0, 0, 1, 0, 1, 0)  (0, 1, 0, 1, 0, 0, 1, 0, 1, 0, 1)   \n",
       "\n",
       "   angle_in_radians  angle_in_degrees  Cosine_Similarity  rank  \n",
       "0          0.841069         48.189685           0.666667   1.0  \n",
       "1          1.079914         61.874494           0.471405   2.0  \n",
       "2          1.570796         90.000000           0.000000   4.0  \n",
       "3          1.079914         61.874494           0.471405   2.0  \n",
       "4          1.570796         90.000000           0.000000   4.0  \n",
       "5          1.197004         68.583286           0.365148   3.0  "
      ]
     },
     "execution_count": 35,
     "metadata": {},
     "output_type": "execute_result"
    }
   ],
   "source": [
    "vec_combi_df"
   ]
  },
  {
   "cell_type": "code",
   "execution_count": 36,
   "id": "c5ef5e4f",
   "metadata": {},
   "outputs": [
    {
     "data": {
      "text/plain": [
       "{'I hate eggs': array([0, 0, 1, 0, 0, 1, 0, 0, 0, 1, 0]),\n",
       " 'I hate beef': array([0, 0, 1, 0, 1, 0, 0, 0, 0, 1, 0]),\n",
       " 'I like chicken and hate pork': array([1, 1, 1, 1, 0, 0, 0, 1, 0, 1, 0]),\n",
       " 'Hate Pork and like squid': array([0, 1, 0, 1, 0, 0, 1, 0, 1, 0, 1])}"
      ]
     },
     "execution_count": 36,
     "metadata": {},
     "output_type": "execute_result"
    }
   ],
   "source": [
    "# creating a mapping object to map each sentences with their corresponding vectors.\n",
    "map_dic = dict(zip(sentences,list(CountVectorized_sentences)))\n",
    "map_dic"
   ]
  },
  {
   "cell_type": "code",
   "execution_count": 37,
   "id": "c6af6c8d",
   "metadata": {},
   "outputs": [
    {
     "data": {
      "text/plain": [
       "{(0, 0, 1, 0, 0, 1, 0, 0, 0, 1, 0): 'I hate eggs',\n",
       " (0, 0, 1, 0, 1, 0, 0, 0, 0, 1, 0): 'I hate beef',\n",
       " (1, 1, 1, 1, 0, 0, 0, 1, 0, 1, 0): 'I like chicken and hate pork',\n",
       " (0, 1, 0, 1, 0, 0, 1, 0, 1, 0, 1): 'Hate Pork and like squid'}"
      ]
     },
     "execution_count": 37,
     "metadata": {},
     "output_type": "execute_result"
    }
   ],
   "source": [
    "# inverting the dictionary\n",
    "map_dic_tuple = {tuple(values):keys for keys,values in map_dic.items()}\n",
    "map_dic_tuple"
   ]
  },
  {
   "cell_type": "code",
   "execution_count": 38,
   "id": "f704faac",
   "metadata": {},
   "outputs": [],
   "source": [
    "# adding a new columns for sentences corresponding to each vector.\n",
    "vec_combi_df['sentences_vector1'] = vec_combi_df['tuple_vector1'].map(map_dic_tuple)\n",
    "vec_combi_df['sentences_vector2'] = vec_combi_df['tuple_vector2'].map(map_dic_tuple)"
   ]
  },
  {
   "cell_type": "code",
   "execution_count": 39,
   "id": "d399e8db",
   "metadata": {},
   "outputs": [
    {
     "data": {
      "text/html": [
       "<div>\n",
       "<style scoped>\n",
       "    .dataframe tbody tr th:only-of-type {\n",
       "        vertical-align: middle;\n",
       "    }\n",
       "\n",
       "    .dataframe tbody tr th {\n",
       "        vertical-align: top;\n",
       "    }\n",
       "\n",
       "    .dataframe thead th {\n",
       "        text-align: right;\n",
       "    }\n",
       "</style>\n",
       "<table border=\"1\" class=\"dataframe\">\n",
       "  <thead>\n",
       "    <tr style=\"text-align: right;\">\n",
       "      <th></th>\n",
       "      <th>vector_1</th>\n",
       "      <th>vector_2</th>\n",
       "      <th>tuple_vector1</th>\n",
       "      <th>tuple_vector2</th>\n",
       "      <th>angle_in_radians</th>\n",
       "      <th>angle_in_degrees</th>\n",
       "      <th>Cosine_Similarity</th>\n",
       "      <th>rank</th>\n",
       "      <th>sentences_vector1</th>\n",
       "      <th>sentences_vector2</th>\n",
       "    </tr>\n",
       "  </thead>\n",
       "  <tbody>\n",
       "    <tr>\n",
       "      <th>0</th>\n",
       "      <td>[0, 0, 1, 0, 0, 1, 0, 0, 0, 1, 0]</td>\n",
       "      <td>[0, 0, 1, 0, 1, 0, 0, 0, 0, 1, 0]</td>\n",
       "      <td>(0, 0, 1, 0, 0, 1, 0, 0, 0, 1, 0)</td>\n",
       "      <td>(0, 0, 1, 0, 1, 0, 0, 0, 0, 1, 0)</td>\n",
       "      <td>0.841069</td>\n",
       "      <td>48.189685</td>\n",
       "      <td>0.666667</td>\n",
       "      <td>1.0</td>\n",
       "      <td>I hate eggs</td>\n",
       "      <td>I hate beef</td>\n",
       "    </tr>\n",
       "    <tr>\n",
       "      <th>1</th>\n",
       "      <td>[0, 0, 1, 0, 0, 1, 0, 0, 0, 1, 0]</td>\n",
       "      <td>[1, 1, 1, 1, 0, 0, 0, 1, 0, 1, 0]</td>\n",
       "      <td>(0, 0, 1, 0, 0, 1, 0, 0, 0, 1, 0)</td>\n",
       "      <td>(1, 1, 1, 1, 0, 0, 0, 1, 0, 1, 0)</td>\n",
       "      <td>1.079914</td>\n",
       "      <td>61.874494</td>\n",
       "      <td>0.471405</td>\n",
       "      <td>2.0</td>\n",
       "      <td>I hate eggs</td>\n",
       "      <td>I like chicken and hate pork</td>\n",
       "    </tr>\n",
       "    <tr>\n",
       "      <th>3</th>\n",
       "      <td>[0, 0, 1, 0, 1, 0, 0, 0, 0, 1, 0]</td>\n",
       "      <td>[1, 1, 1, 1, 0, 0, 0, 1, 0, 1, 0]</td>\n",
       "      <td>(0, 0, 1, 0, 1, 0, 0, 0, 0, 1, 0)</td>\n",
       "      <td>(1, 1, 1, 1, 0, 0, 0, 1, 0, 1, 0)</td>\n",
       "      <td>1.079914</td>\n",
       "      <td>61.874494</td>\n",
       "      <td>0.471405</td>\n",
       "      <td>2.0</td>\n",
       "      <td>I hate beef</td>\n",
       "      <td>I like chicken and hate pork</td>\n",
       "    </tr>\n",
       "    <tr>\n",
       "      <th>5</th>\n",
       "      <td>[1, 1, 1, 1, 0, 0, 0, 1, 0, 1, 0]</td>\n",
       "      <td>[0, 1, 0, 1, 0, 0, 1, 0, 1, 0, 1]</td>\n",
       "      <td>(1, 1, 1, 1, 0, 0, 0, 1, 0, 1, 0)</td>\n",
       "      <td>(0, 1, 0, 1, 0, 0, 1, 0, 1, 0, 1)</td>\n",
       "      <td>1.197004</td>\n",
       "      <td>68.583286</td>\n",
       "      <td>0.365148</td>\n",
       "      <td>3.0</td>\n",
       "      <td>I like chicken and hate pork</td>\n",
       "      <td>Hate Pork and like squid</td>\n",
       "    </tr>\n",
       "    <tr>\n",
       "      <th>2</th>\n",
       "      <td>[0, 0, 1, 0, 0, 1, 0, 0, 0, 1, 0]</td>\n",
       "      <td>[0, 1, 0, 1, 0, 0, 1, 0, 1, 0, 1]</td>\n",
       "      <td>(0, 0, 1, 0, 0, 1, 0, 0, 0, 1, 0)</td>\n",
       "      <td>(0, 1, 0, 1, 0, 0, 1, 0, 1, 0, 1)</td>\n",
       "      <td>1.570796</td>\n",
       "      <td>90.000000</td>\n",
       "      <td>0.000000</td>\n",
       "      <td>4.0</td>\n",
       "      <td>I hate eggs</td>\n",
       "      <td>Hate Pork and like squid</td>\n",
       "    </tr>\n",
       "    <tr>\n",
       "      <th>4</th>\n",
       "      <td>[0, 0, 1, 0, 1, 0, 0, 0, 0, 1, 0]</td>\n",
       "      <td>[0, 1, 0, 1, 0, 0, 1, 0, 1, 0, 1]</td>\n",
       "      <td>(0, 0, 1, 0, 1, 0, 0, 0, 0, 1, 0)</td>\n",
       "      <td>(0, 1, 0, 1, 0, 0, 1, 0, 1, 0, 1)</td>\n",
       "      <td>1.570796</td>\n",
       "      <td>90.000000</td>\n",
       "      <td>0.000000</td>\n",
       "      <td>4.0</td>\n",
       "      <td>I hate beef</td>\n",
       "      <td>Hate Pork and like squid</td>\n",
       "    </tr>\n",
       "  </tbody>\n",
       "</table>\n",
       "</div>"
      ],
      "text/plain": [
       "                            vector_1                           vector_2  \\\n",
       "0  [0, 0, 1, 0, 0, 1, 0, 0, 0, 1, 0]  [0, 0, 1, 0, 1, 0, 0, 0, 0, 1, 0]   \n",
       "1  [0, 0, 1, 0, 0, 1, 0, 0, 0, 1, 0]  [1, 1, 1, 1, 0, 0, 0, 1, 0, 1, 0]   \n",
       "3  [0, 0, 1, 0, 1, 0, 0, 0, 0, 1, 0]  [1, 1, 1, 1, 0, 0, 0, 1, 0, 1, 0]   \n",
       "5  [1, 1, 1, 1, 0, 0, 0, 1, 0, 1, 0]  [0, 1, 0, 1, 0, 0, 1, 0, 1, 0, 1]   \n",
       "2  [0, 0, 1, 0, 0, 1, 0, 0, 0, 1, 0]  [0, 1, 0, 1, 0, 0, 1, 0, 1, 0, 1]   \n",
       "4  [0, 0, 1, 0, 1, 0, 0, 0, 0, 1, 0]  [0, 1, 0, 1, 0, 0, 1, 0, 1, 0, 1]   \n",
       "\n",
       "                       tuple_vector1                      tuple_vector2  \\\n",
       "0  (0, 0, 1, 0, 0, 1, 0, 0, 0, 1, 0)  (0, 0, 1, 0, 1, 0, 0, 0, 0, 1, 0)   \n",
       "1  (0, 0, 1, 0, 0, 1, 0, 0, 0, 1, 0)  (1, 1, 1, 1, 0, 0, 0, 1, 0, 1, 0)   \n",
       "3  (0, 0, 1, 0, 1, 0, 0, 0, 0, 1, 0)  (1, 1, 1, 1, 0, 0, 0, 1, 0, 1, 0)   \n",
       "5  (1, 1, 1, 1, 0, 0, 0, 1, 0, 1, 0)  (0, 1, 0, 1, 0, 0, 1, 0, 1, 0, 1)   \n",
       "2  (0, 0, 1, 0, 0, 1, 0, 0, 0, 1, 0)  (0, 1, 0, 1, 0, 0, 1, 0, 1, 0, 1)   \n",
       "4  (0, 0, 1, 0, 1, 0, 0, 0, 0, 1, 0)  (0, 1, 0, 1, 0, 0, 1, 0, 1, 0, 1)   \n",
       "\n",
       "   angle_in_radians  angle_in_degrees  Cosine_Similarity  rank  \\\n",
       "0          0.841069         48.189685           0.666667   1.0   \n",
       "1          1.079914         61.874494           0.471405   2.0   \n",
       "3          1.079914         61.874494           0.471405   2.0   \n",
       "5          1.197004         68.583286           0.365148   3.0   \n",
       "2          1.570796         90.000000           0.000000   4.0   \n",
       "4          1.570796         90.000000           0.000000   4.0   \n",
       "\n",
       "              sentences_vector1             sentences_vector2  \n",
       "0                   I hate eggs                   I hate beef  \n",
       "1                   I hate eggs  I like chicken and hate pork  \n",
       "3                   I hate beef  I like chicken and hate pork  \n",
       "5  I like chicken and hate pork      Hate Pork and like squid  \n",
       "2                   I hate eggs      Hate Pork and like squid  \n",
       "4                   I hate beef      Hate Pork and like squid  "
      ]
     },
     "execution_count": 39,
     "metadata": {},
     "output_type": "execute_result"
    }
   ],
   "source": [
    "# Sorting them by rank.\n",
    "vec_combi_df.sort_values(by = 'rank')"
   ]
  }
 ],
 "metadata": {
  "kernelspec": {
   "display_name": "Python 3",
   "language": "python",
   "name": "python3"
  },
  "language_info": {
   "codemirror_mode": {
    "name": "ipython",
    "version": 3
   },
   "file_extension": ".py",
   "mimetype": "text/x-python",
   "name": "python",
   "nbconvert_exporter": "python",
   "pygments_lexer": "ipython3",
   "version": "3.8.8"
  }
 },
 "nbformat": 4,
 "nbformat_minor": 5
}
