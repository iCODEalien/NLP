{
 "cells": [
  {
   "cell_type": "code",
   "execution_count": 1,
   "id": "09a91974",
   "metadata": {},
   "outputs": [],
   "source": [
    "import numpy as np"
   ]
  },
  {
   "cell_type": "code",
   "execution_count": 2,
   "id": "fde53258",
   "metadata": {},
   "outputs": [
    {
     "name": "stdout",
     "output_type": "stream",
     "text": [
      "(4, 4)\n",
      "(4, 1)\n"
     ]
    }
   ],
   "source": [
    "# transition matrix\n",
    "P = np.array([[0.94,0.03,0.03,0.01],\n",
    "    [0.01,0.92,0.07,0.01],\n",
    "    [0.01,0.01,0.85,0.02],\n",
    "    [0.04,0.04,0.05,0.96]])\n",
    "\n",
    "# Distribution matrix\n",
    "X_0 = np.array([[0.46],[0.32],[0.12],[0.10]])\n",
    "\n",
    "print(P.shape)\n",
    "print(X_0.shape)"
   ]
  },
  {
   "cell_type": "code",
   "execution_count": 8,
   "id": "7635b003",
   "metadata": {},
   "outputs": [
    {
     "name": "stdout",
     "output_type": "stream",
     "text": [
      "[[0.4466]\n",
      " [0.3084]\n",
      " [0.1118]\n",
      " [0.1332]]\n"
     ]
    }
   ],
   "source": [
    "# mulitply the transition matrix with the distribution matrix\n",
    "print(np.dot(P,X_0)) # here we should look out for dimension mismatch. passing transition matrix first."
   ]
  },
  {
   "cell_type": "code",
   "execution_count": 40,
   "id": "3a52e77c",
   "metadata": {
    "scrolled": true
   },
   "outputs": [
    {
     "name": "stdout",
     "output_type": "stream",
     "text": [
      "Enter the markov chain length or number of states74\n",
      "Initial state :  [[0.46]\n",
      " [0.32]\n",
      " [0.12]\n",
      " [0.1 ]]\n",
      "Final State :  [[0.22081096]\n",
      " [0.17393329]\n",
      " [0.09437397]\n",
      " [0.51088179]]\n",
      "Total no of states :  73\n"
     ]
    }
   ],
   "source": [
    "# A list to contain all the states in the Markov Chain. The indexes are the discrete time intervals/ states\n",
    "list_of_states = []\n",
    "\n",
    "chain_length = int(input('Enter the markov chain length or number of states'))\n",
    "\n",
    "for i in range(0,chain_length):\n",
    "    if i!=0:\n",
    "        #print(f'{i}th state :  ', trans_state)\n",
    "        \n",
    "        # new future state\n",
    "        trans_state = np.dot(P,trans_state)\n",
    "        \n",
    "        # appending to the list\n",
    "        list_of_states.append(trans_state)\n",
    "    \n",
    "    else:\n",
    "        trans_state = np.dot(P,X_0)\n",
    "    \n",
    "#print('\\n  List of States : ',list_of_states)\n",
    "print(f'Initial state : ', X_0)\n",
    "print(f'Final State : ', list_of_states[-1])\n",
    "print('Total no of states : ', len(list_of_states))"
   ]
  },
  {
   "cell_type": "code",
   "execution_count": 41,
   "id": "834dc176",
   "metadata": {},
   "outputs": [
    {
     "name": "stdout",
     "output_type": "stream",
     "text": [
      "Stable\n",
      "(n-1)th matrix : [[0.2209088 ]\n",
      " [0.17392465]\n",
      " [0.09436422]\n",
      " [0.51080234]] , \n",
      " nth matrix : [[0.22081096]\n",
      " [0.17393329]\n",
      " [0.09437397]\n",
      " [0.51088179]]\n"
     ]
    }
   ],
   "source": [
    "# Finding the Stable state distribution matrix.\n",
    "diff_matrix = np.abs(list_of_states[-2] - list_of_states[-1])\n",
    "\n",
    "# flagging.\n",
    "flag = np.where((diff_matrix < 1/10000).all(),1,0)\n",
    "\n",
    "# checking.\n",
    "if flag == 0:\n",
    "    print('Not yet')\n",
    "elif flag == 1:\n",
    "    print('Stable')\n",
    "    print(f'(n-1)th matrix : {list_of_states[-2]} , \\n nth matrix : {list_of_states[-1]}')"
   ]
  },
  {
   "cell_type": "code",
   "execution_count": 33,
   "id": "0848cc48",
   "metadata": {},
   "outputs": [],
   "source": [
    "# Find whether we reached the Stability\n",
    "\n",
    "def stability_check(states_list):\n",
    "    diff_matrix = np.abs(states_list[-2] - states_list[-1])\n",
    "    \n",
    "    flag = np.where((diff_matrix < 1/10000).all(),1,0)\n",
    "    \n",
    "    return flag"
   ]
  },
  {
   "cell_type": "markdown",
   "id": "3c5736d1",
   "metadata": {},
   "source": [
    "# Stable Distribution Matrix"
   ]
  },
  {
   "cell_type": "code",
   "execution_count": 34,
   "id": "4bbdfdd1",
   "metadata": {},
   "outputs": [],
   "source": [
    "# To find the Stable distribution matrix and how many iterations before stablility was attained.\n",
    "# Here the stability\n",
    "\n",
    "def stable_distribution_matrix(P, X_0):\n",
    "    flag = 0\n",
    "    i = 0\n",
    "    list_of_states = [X_0]\n",
    "    \n",
    "    while flag == 0:\n",
    "        if i != 0:\n",
    "            # new future state\n",
    "            trans_state = np.dot(P,trans_state)\n",
    "        \n",
    "            # appending to the list\n",
    "            list_of_states.append(trans_state)\n",
    "            \n",
    "            # checking whether we reached the stability\n",
    "            flag = stability_check(list_of_states)\n",
    "            \n",
    "            # iterator\n",
    "            i += 1\n",
    "            \n",
    "        else:\n",
    "            trans_state = np.dot(P,X_0)\n",
    "            i = 1\n",
    "    \n",
    "    return list_of_states[-1], i"
   ]
  },
  {
   "cell_type": "code",
   "execution_count": 37,
   "id": "0383e777",
   "metadata": {},
   "outputs": [
    {
     "name": "stdout",
     "output_type": "stream",
     "text": [
      "Stable Distribution matrix :  [[0.22081096]\n",
      " [0.17393329]\n",
      " [0.09437397]\n",
      " [0.51088179]]\n",
      "Number of states :  74\n"
     ]
    }
   ],
   "source": [
    "# Testing and validating.\n",
    "Final_matrix , no_of_states = stable_distribution_matrix(P, X_0)\n",
    "print('Stable Distribution matrix : ',Final_matrix)\n",
    "print('Number of states to reach stability: ',no_of_states)"
   ]
  },
  {
   "cell_type": "markdown",
   "id": "51a97bdf",
   "metadata": {},
   "source": [
    "# Nth Future's matrix"
   ]
  },
  {
   "cell_type": "code",
   "execution_count": 60,
   "id": "ccfc713f",
   "metadata": {},
   "outputs": [],
   "source": [
    "# Here we need to do matrix exponentiation to 'n'\n",
    "# Then multiply that with the inital state matrix to obtain the nth futures matrix.\n",
    "\n",
    "def nth_matrix(n, P, X_0):\n",
    "    \n",
    "    nth_P = np.linalg.matrix_power(P,n)\n",
    "    \n",
    "    return np.dot(nth_P, X_0)"
   ]
  },
  {
   "cell_type": "code",
   "execution_count": 61,
   "id": "e1b8e885",
   "metadata": {},
   "outputs": [
    {
     "data": {
      "text/plain": [
       "array([[0.22081096],\n",
       "       [0.17393329],\n",
       "       [0.09437397],\n",
       "       [0.51088179]])"
      ]
     },
     "execution_count": 61,
     "metadata": {},
     "output_type": "execute_result"
    }
   ],
   "source": [
    "n74th = nth_matrix(74, P, X_0)\n",
    "n74th"
   ]
  }
 ],
 "metadata": {
  "kernelspec": {
   "display_name": "Python 3",
   "language": "python",
   "name": "python3"
  },
  "language_info": {
   "codemirror_mode": {
    "name": "ipython",
    "version": 3
   },
   "file_extension": ".py",
   "mimetype": "text/x-python",
   "name": "python",
   "nbconvert_exporter": "python",
   "pygments_lexer": "ipython3",
   "version": "3.8.8"
  }
 },
 "nbformat": 4,
 "nbformat_minor": 5
}
