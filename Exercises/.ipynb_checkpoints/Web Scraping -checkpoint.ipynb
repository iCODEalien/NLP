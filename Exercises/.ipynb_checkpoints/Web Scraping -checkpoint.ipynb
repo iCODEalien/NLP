{
 "cells": [
  {
   "cell_type": "markdown",
   "id": "85d71b1f",
   "metadata": {},
   "source": [
    "# Chat GPT generated code\n"
   ]
  },
  {
   "cell_type": "code",
   "execution_count": 3,
   "id": "0a6473c9",
   "metadata": {},
   "outputs": [
    {
     "name": "stdout",
     "output_type": "stream",
     "text": [
      "Cold Symptoms:\n",
      "Sneezing\n",
      "Stuffy nose (congestion)\n",
      "Runny nose\n",
      "Sore throat\n",
      "Coughing\n",
      "Headache\n"
     ]
    }
   ],
   "source": [
    "import requests\n",
    "import re\n",
    "from bs4 import BeautifulSoup\n",
    "\n",
    "def scrape_medlineplus():\n",
    "    url = 'https://medlineplus.gov/commoncold.html'\n",
    "    response = requests.get(url)\n",
    "\n",
    "    if response.status_code == 200:\n",
    "        soup = BeautifulSoup(response.content, 'html.parser')\n",
    "\n",
    "        # The common cold symptoms are usually listed under the <h3> tag\n",
    "        # with the 'Symptoms' heading on the page.\n",
    "        symptoms_heading = soup.find('h3', text= re.compile(r'Symptoms|symptoms'))\n",
    "        if symptoms_heading:\n",
    "            # Assuming that the list of symptoms is contained in the next <ul> element.\n",
    "            symptoms_list = symptoms_heading.find_next('ul')\n",
    "            if symptoms_list:\n",
    "                # Extracting individual symptoms from the list items.\n",
    "                cold_symptoms = [item.text.strip() for item in symptoms_list.find_all('li')]\n",
    "                return cold_symptoms\n",
    "        else:\n",
    "            print(\"Could not find the symptoms section on the page.\")\n",
    "    else:\n",
    "        print(f\"Failed to retrieve the page. Status code: {response.status_code}\")\n",
    "\n",
    "    return []\n",
    "\n",
    "if __name__ == \"__main__\":\n",
    "    cold_symptoms = scrape_medlineplus()\n",
    "    if cold_symptoms:\n",
    "        print(\"Cold Symptoms:\")\n",
    "        for symptom in cold_symptoms:\n",
    "            print(symptom)\n",
    "    else:\n",
    "        print(\"No cold symptoms found on the page.\")"
   ]
  }
 ],
 "metadata": {
  "kernelspec": {
   "display_name": "Python 3",
   "language": "python",
   "name": "python3"
  },
  "language_info": {
   "codemirror_mode": {
    "name": "ipython",
    "version": 3
   },
   "file_extension": ".py",
   "mimetype": "text/x-python",
   "name": "python",
   "nbconvert_exporter": "python",
   "pygments_lexer": "ipython3",
   "version": "3.8.8"
  }
 },
 "nbformat": 4,
 "nbformat_minor": 5
}
