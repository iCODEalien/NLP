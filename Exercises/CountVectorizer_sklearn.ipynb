{
 "cells": [
  {
   "cell_type": "code",
   "execution_count": 10,
   "id": "286dee8b",
   "metadata": {},
   "outputs": [
    {
     "name": "stdout",
     "output_type": "stream",
     "text": [
      "['and' 'cats' 'crocodiles' 'hate' 'love' 'snakes']\n",
      "  (0, 3)\t1\n",
      "  (0, 5)\t1\n",
      "  (1, 3)\t1\n",
      "  (1, 2)\t1\n",
      "  (2, 3)\t1\n",
      "  (2, 5)\t1\n",
      "  (2, 4)\t1\n",
      "  (2, 1)\t1\n",
      "  (2, 0)\t1\n",
      "  (3, 4)\t1\n",
      "  (3, 1)\t1\n",
      "[[0 0 0 1 0 1]\n",
      " [0 0 1 1 0 0]\n",
      " [1 1 0 1 1 1]\n",
      " [0 1 0 0 1 0]]\n",
      "None\n"
     ]
    }
   ],
   "source": [
    "# Count Vectorizer\n",
    "from sklearn.feature_extraction.text import CountVectorizer\n",
    "\n",
    "corpus = ['I hate snakes',\n",
    "          'I hate crocodiles',\n",
    "          'Love cats and hate snakes',\n",
    "          'I love cats']\n",
    "\n",
    "vectorizer = CountVectorizer()\n",
    "X = vectorizer.fit_transform(corpus)\n",
    "\n",
    "print(vectorizer.get_feature_names_out())\n",
    "\n",
    "print(X)\n",
    "print(X.toarray())\n",
    "print(vectorizer.get_stop_words())"
   ]
  },
  {
   "cell_type": "code",
   "execution_count": 18,
   "id": "cf83b083",
   "metadata": {},
   "outputs": [
    {
     "name": "stdout",
     "output_type": "stream",
     "text": [
      "['and hate' 'cats and' 'hate crocodiles' 'hate snakes' 'love cats']\n",
      "[[0 0 0 1 0]\n",
      " [0 0 1 0 0]\n",
      " [1 1 0 1 1]\n",
      " [0 0 0 0 1]]\n",
      "None\n"
     ]
    }
   ],
   "source": [
    "# With ngram range, min_n = 2, max_n = 2\n",
    "vec2 = CountVectorizer(analyzer = 'word', ngram_range = (2,2))\n",
    "\n",
    "X = vec2.fit_transform(corpus)\n",
    "\n",
    "print(vec2.get_feature_names_out())# output consists of only bigrams\n",
    "print(X.toarray())\n",
    "print(vec2.get_stop_words())"
   ]
  },
  {
   "cell_type": "code",
   "execution_count": 19,
   "id": "ab24655d",
   "metadata": {},
   "outputs": [
    {
     "name": "stdout",
     "output_type": "stream",
     "text": [
      "['and' 'and hate' 'and hate snakes' 'cats' 'cats and' 'cats and hate'\n",
      " 'crocodiles' 'hate' 'hate crocodiles' 'hate snakes' 'love' 'love cats'\n",
      " 'love cats and' 'snakes']\n",
      "[[0 0 0 0 0 0 0 1 0 1 0 0 0 1]\n",
      " [0 0 0 0 0 0 1 1 1 0 0 0 0 0]\n",
      " [1 1 1 1 1 1 0 1 0 1 1 1 1 1]\n",
      " [0 0 0 1 0 0 0 0 0 0 1 1 0 0]]\n",
      "None\n"
     ]
    }
   ],
   "source": [
    "# With ngram range, min_n = 1, max_n = 3\n",
    "vec2 = CountVectorizer(analyzer = 'word', ngram_range = (1,3))\n",
    "\n",
    "X = vec2.fit_transform(corpus)\n",
    "\n",
    "print(vec2.get_feature_names_out()) # the output consists of unigrams, bigrams and trigrams\n",
    "print(X.toarray())\n",
    "print(vec2.get_stop_words()) "
   ]
  },
  {
   "cell_type": "code",
   "execution_count": null,
   "id": "8f426b8b",
   "metadata": {},
   "outputs": [],
   "source": []
  }
 ],
 "metadata": {
  "kernelspec": {
   "display_name": "Python 3",
   "language": "python",
   "name": "python3"
  },
  "language_info": {
   "codemirror_mode": {
    "name": "ipython",
    "version": 3
   },
   "file_extension": ".py",
   "mimetype": "text/x-python",
   "name": "python",
   "nbconvert_exporter": "python",
   "pygments_lexer": "ipython3",
   "version": "3.8.8"
  }
 },
 "nbformat": 4,
 "nbformat_minor": 5
}
