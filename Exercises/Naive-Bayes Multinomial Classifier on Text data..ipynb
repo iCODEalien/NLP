{
 "cells": [
  {
   "cell_type": "code",
   "execution_count": 41,
   "id": "240ec737",
   "metadata": {},
   "outputs": [],
   "source": [
    "import wget"
   ]
  },
  {
   "cell_type": "code",
   "execution_count": 42,
   "id": "53062686",
   "metadata": {},
   "outputs": [],
   "source": [
    "import pandas as pd\n",
    "import numpy as np\n",
    "import nltk\n",
    "from sklearn.feature_extraction.text import CountVectorizer\n",
    "from sklearn.model_selection import train_test_split\n",
    "from sklearn.naive_bayes import MultinomialNB\n",
    "from nltk.corpus import wordnet"
   ]
  },
  {
   "cell_type": "code",
   "execution_count": 2,
   "id": "d71e5d37",
   "metadata": {
    "scrolled": true
   },
   "outputs": [
    {
     "data": {
      "text/plain": [
       "['PY3K',\n",
       " '__builtins__',\n",
       " '__cached__',\n",
       " '__current_size',\n",
       " '__doc__',\n",
       " '__file__',\n",
       " '__loader__',\n",
       " '__name__',\n",
       " '__package__',\n",
       " '__spec__',\n",
       " '__version__',\n",
       " 'bar_adaptive',\n",
       " 'bar_thermometer',\n",
       " 'callback_progress',\n",
       " 'detect_filename',\n",
       " 'download',\n",
       " 'filename_fix_existing',\n",
       " 'filename_from_headers',\n",
       " 'filename_from_url',\n",
       " 'get_console_width',\n",
       " 'math',\n",
       " 'os',\n",
       " 'shutil',\n",
       " 'sys',\n",
       " 'tempfile',\n",
       " 'to_unicode',\n",
       " 'ulib',\n",
       " 'urlparse',\n",
       " 'usage',\n",
       " 'win32_unicode_console',\n",
       " 'win32_utf8_argv']"
      ]
     },
     "execution_count": 2,
     "metadata": {},
     "output_type": "execute_result"
    }
   ],
   "source": [
    "dir(wget)"
   ]
  },
  {
   "cell_type": "code",
   "execution_count": 3,
   "id": "b1c966a9",
   "metadata": {
    "scrolled": true
   },
   "outputs": [
    {
     "ename": "HTTPError",
     "evalue": "HTTP Error 403: Forbidden",
     "output_type": "error",
     "traceback": [
      "\u001b[1;31m---------------------------------------------------------------------------\u001b[0m",
      "\u001b[1;31mHTTPError\u001b[0m                                 Traceback (most recent call last)",
      "\u001b[1;32m<ipython-input-3-c94bf42c60ad>\u001b[0m in \u001b[0;36m<module>\u001b[1;34m\u001b[0m\n\u001b[0;32m      1\u001b[0m \u001b[1;31m#wget.download(https://www.kaggle.com/shivamkushwaha/bbc-full-text-document-classification)\u001b[0m\u001b[1;33m\u001b[0m\u001b[1;33m\u001b[0m\u001b[1;33m\u001b[0m\u001b[0m\n\u001b[1;32m----> 2\u001b[1;33m \u001b[0mwget\u001b[0m\u001b[1;33m.\u001b[0m\u001b[0mdownload\u001b[0m\u001b[1;33m(\u001b[0m\u001b[1;34m'https://lazyprogrammer.me/course_files/nlp/bbc_text_cls.csv'\u001b[0m\u001b[1;33m)\u001b[0m\u001b[1;33m\u001b[0m\u001b[1;33m\u001b[0m\u001b[0m\n\u001b[0m",
      "\u001b[1;32m~\\anaconda3\\lib\\site-packages\\wget.py\u001b[0m in \u001b[0;36mdownload\u001b[1;34m(url, out, bar)\u001b[0m\n\u001b[0;32m    524\u001b[0m     \u001b[1;32melse\u001b[0m\u001b[1;33m:\u001b[0m\u001b[1;33m\u001b[0m\u001b[1;33m\u001b[0m\u001b[0m\n\u001b[0;32m    525\u001b[0m         \u001b[0mbinurl\u001b[0m \u001b[1;33m=\u001b[0m \u001b[0murl\u001b[0m\u001b[1;33m\u001b[0m\u001b[1;33m\u001b[0m\u001b[0m\n\u001b[1;32m--> 526\u001b[1;33m     \u001b[1;33m(\u001b[0m\u001b[0mtmpfile\u001b[0m\u001b[1;33m,\u001b[0m \u001b[0mheaders\u001b[0m\u001b[1;33m)\u001b[0m \u001b[1;33m=\u001b[0m \u001b[0mulib\u001b[0m\u001b[1;33m.\u001b[0m\u001b[0murlretrieve\u001b[0m\u001b[1;33m(\u001b[0m\u001b[0mbinurl\u001b[0m\u001b[1;33m,\u001b[0m \u001b[0mtmpfile\u001b[0m\u001b[1;33m,\u001b[0m \u001b[0mcallback\u001b[0m\u001b[1;33m)\u001b[0m\u001b[1;33m\u001b[0m\u001b[1;33m\u001b[0m\u001b[0m\n\u001b[0m\u001b[0;32m    527\u001b[0m     \u001b[0mfilename\u001b[0m \u001b[1;33m=\u001b[0m \u001b[0mdetect_filename\u001b[0m\u001b[1;33m(\u001b[0m\u001b[0murl\u001b[0m\u001b[1;33m,\u001b[0m \u001b[0mout\u001b[0m\u001b[1;33m,\u001b[0m \u001b[0mheaders\u001b[0m\u001b[1;33m)\u001b[0m\u001b[1;33m\u001b[0m\u001b[1;33m\u001b[0m\u001b[0m\n\u001b[0;32m    528\u001b[0m     \u001b[1;32mif\u001b[0m \u001b[0moutdir\u001b[0m\u001b[1;33m:\u001b[0m\u001b[1;33m\u001b[0m\u001b[1;33m\u001b[0m\u001b[0m\n",
      "\u001b[1;32m~\\anaconda3\\lib\\urllib\\request.py\u001b[0m in \u001b[0;36murlretrieve\u001b[1;34m(url, filename, reporthook, data)\u001b[0m\n\u001b[0;32m    245\u001b[0m     \u001b[0murl_type\u001b[0m\u001b[1;33m,\u001b[0m \u001b[0mpath\u001b[0m \u001b[1;33m=\u001b[0m \u001b[0m_splittype\u001b[0m\u001b[1;33m(\u001b[0m\u001b[0murl\u001b[0m\u001b[1;33m)\u001b[0m\u001b[1;33m\u001b[0m\u001b[1;33m\u001b[0m\u001b[0m\n\u001b[0;32m    246\u001b[0m \u001b[1;33m\u001b[0m\u001b[0m\n\u001b[1;32m--> 247\u001b[1;33m     \u001b[1;32mwith\u001b[0m \u001b[0mcontextlib\u001b[0m\u001b[1;33m.\u001b[0m\u001b[0mclosing\u001b[0m\u001b[1;33m(\u001b[0m\u001b[0murlopen\u001b[0m\u001b[1;33m(\u001b[0m\u001b[0murl\u001b[0m\u001b[1;33m,\u001b[0m \u001b[0mdata\u001b[0m\u001b[1;33m)\u001b[0m\u001b[1;33m)\u001b[0m \u001b[1;32mas\u001b[0m \u001b[0mfp\u001b[0m\u001b[1;33m:\u001b[0m\u001b[1;33m\u001b[0m\u001b[1;33m\u001b[0m\u001b[0m\n\u001b[0m\u001b[0;32m    248\u001b[0m         \u001b[0mheaders\u001b[0m \u001b[1;33m=\u001b[0m \u001b[0mfp\u001b[0m\u001b[1;33m.\u001b[0m\u001b[0minfo\u001b[0m\u001b[1;33m(\u001b[0m\u001b[1;33m)\u001b[0m\u001b[1;33m\u001b[0m\u001b[1;33m\u001b[0m\u001b[0m\n\u001b[0;32m    249\u001b[0m \u001b[1;33m\u001b[0m\u001b[0m\n",
      "\u001b[1;32m~\\anaconda3\\lib\\urllib\\request.py\u001b[0m in \u001b[0;36murlopen\u001b[1;34m(url, data, timeout, cafile, capath, cadefault, context)\u001b[0m\n\u001b[0;32m    220\u001b[0m     \u001b[1;32melse\u001b[0m\u001b[1;33m:\u001b[0m\u001b[1;33m\u001b[0m\u001b[1;33m\u001b[0m\u001b[0m\n\u001b[0;32m    221\u001b[0m         \u001b[0mopener\u001b[0m \u001b[1;33m=\u001b[0m \u001b[0m_opener\u001b[0m\u001b[1;33m\u001b[0m\u001b[1;33m\u001b[0m\u001b[0m\n\u001b[1;32m--> 222\u001b[1;33m     \u001b[1;32mreturn\u001b[0m \u001b[0mopener\u001b[0m\u001b[1;33m.\u001b[0m\u001b[0mopen\u001b[0m\u001b[1;33m(\u001b[0m\u001b[0murl\u001b[0m\u001b[1;33m,\u001b[0m \u001b[0mdata\u001b[0m\u001b[1;33m,\u001b[0m \u001b[0mtimeout\u001b[0m\u001b[1;33m)\u001b[0m\u001b[1;33m\u001b[0m\u001b[1;33m\u001b[0m\u001b[0m\n\u001b[0m\u001b[0;32m    223\u001b[0m \u001b[1;33m\u001b[0m\u001b[0m\n\u001b[0;32m    224\u001b[0m \u001b[1;32mdef\u001b[0m \u001b[0minstall_opener\u001b[0m\u001b[1;33m(\u001b[0m\u001b[0mopener\u001b[0m\u001b[1;33m)\u001b[0m\u001b[1;33m:\u001b[0m\u001b[1;33m\u001b[0m\u001b[1;33m\u001b[0m\u001b[0m\n",
      "\u001b[1;32m~\\anaconda3\\lib\\urllib\\request.py\u001b[0m in \u001b[0;36mopen\u001b[1;34m(self, fullurl, data, timeout)\u001b[0m\n\u001b[0;32m    529\u001b[0m         \u001b[1;32mfor\u001b[0m \u001b[0mprocessor\u001b[0m \u001b[1;32min\u001b[0m \u001b[0mself\u001b[0m\u001b[1;33m.\u001b[0m\u001b[0mprocess_response\u001b[0m\u001b[1;33m.\u001b[0m\u001b[0mget\u001b[0m\u001b[1;33m(\u001b[0m\u001b[0mprotocol\u001b[0m\u001b[1;33m,\u001b[0m \u001b[1;33m[\u001b[0m\u001b[1;33m]\u001b[0m\u001b[1;33m)\u001b[0m\u001b[1;33m:\u001b[0m\u001b[1;33m\u001b[0m\u001b[1;33m\u001b[0m\u001b[0m\n\u001b[0;32m    530\u001b[0m             \u001b[0mmeth\u001b[0m \u001b[1;33m=\u001b[0m \u001b[0mgetattr\u001b[0m\u001b[1;33m(\u001b[0m\u001b[0mprocessor\u001b[0m\u001b[1;33m,\u001b[0m \u001b[0mmeth_name\u001b[0m\u001b[1;33m)\u001b[0m\u001b[1;33m\u001b[0m\u001b[1;33m\u001b[0m\u001b[0m\n\u001b[1;32m--> 531\u001b[1;33m             \u001b[0mresponse\u001b[0m \u001b[1;33m=\u001b[0m \u001b[0mmeth\u001b[0m\u001b[1;33m(\u001b[0m\u001b[0mreq\u001b[0m\u001b[1;33m,\u001b[0m \u001b[0mresponse\u001b[0m\u001b[1;33m)\u001b[0m\u001b[1;33m\u001b[0m\u001b[1;33m\u001b[0m\u001b[0m\n\u001b[0m\u001b[0;32m    532\u001b[0m \u001b[1;33m\u001b[0m\u001b[0m\n\u001b[0;32m    533\u001b[0m         \u001b[1;32mreturn\u001b[0m \u001b[0mresponse\u001b[0m\u001b[1;33m\u001b[0m\u001b[1;33m\u001b[0m\u001b[0m\n",
      "\u001b[1;32m~\\anaconda3\\lib\\urllib\\request.py\u001b[0m in \u001b[0;36mhttp_response\u001b[1;34m(self, request, response)\u001b[0m\n\u001b[0;32m    638\u001b[0m         \u001b[1;31m# request was successfully received, understood, and accepted.\u001b[0m\u001b[1;33m\u001b[0m\u001b[1;33m\u001b[0m\u001b[1;33m\u001b[0m\u001b[0m\n\u001b[0;32m    639\u001b[0m         \u001b[1;32mif\u001b[0m \u001b[1;32mnot\u001b[0m \u001b[1;33m(\u001b[0m\u001b[1;36m200\u001b[0m \u001b[1;33m<=\u001b[0m \u001b[0mcode\u001b[0m \u001b[1;33m<\u001b[0m \u001b[1;36m300\u001b[0m\u001b[1;33m)\u001b[0m\u001b[1;33m:\u001b[0m\u001b[1;33m\u001b[0m\u001b[1;33m\u001b[0m\u001b[0m\n\u001b[1;32m--> 640\u001b[1;33m             response = self.parent.error(\n\u001b[0m\u001b[0;32m    641\u001b[0m                 'http', request, response, code, msg, hdrs)\n\u001b[0;32m    642\u001b[0m \u001b[1;33m\u001b[0m\u001b[0m\n",
      "\u001b[1;32m~\\anaconda3\\lib\\urllib\\request.py\u001b[0m in \u001b[0;36merror\u001b[1;34m(self, proto, *args)\u001b[0m\n\u001b[0;32m    567\u001b[0m         \u001b[1;32mif\u001b[0m \u001b[0mhttp_err\u001b[0m\u001b[1;33m:\u001b[0m\u001b[1;33m\u001b[0m\u001b[1;33m\u001b[0m\u001b[0m\n\u001b[0;32m    568\u001b[0m             \u001b[0margs\u001b[0m \u001b[1;33m=\u001b[0m \u001b[1;33m(\u001b[0m\u001b[0mdict\u001b[0m\u001b[1;33m,\u001b[0m \u001b[1;34m'default'\u001b[0m\u001b[1;33m,\u001b[0m \u001b[1;34m'http_error_default'\u001b[0m\u001b[1;33m)\u001b[0m \u001b[1;33m+\u001b[0m \u001b[0morig_args\u001b[0m\u001b[1;33m\u001b[0m\u001b[1;33m\u001b[0m\u001b[0m\n\u001b[1;32m--> 569\u001b[1;33m             \u001b[1;32mreturn\u001b[0m \u001b[0mself\u001b[0m\u001b[1;33m.\u001b[0m\u001b[0m_call_chain\u001b[0m\u001b[1;33m(\u001b[0m\u001b[1;33m*\u001b[0m\u001b[0margs\u001b[0m\u001b[1;33m)\u001b[0m\u001b[1;33m\u001b[0m\u001b[1;33m\u001b[0m\u001b[0m\n\u001b[0m\u001b[0;32m    570\u001b[0m \u001b[1;33m\u001b[0m\u001b[0m\n\u001b[0;32m    571\u001b[0m \u001b[1;31m# XXX probably also want an abstract factory that knows when it makes\u001b[0m\u001b[1;33m\u001b[0m\u001b[1;33m\u001b[0m\u001b[1;33m\u001b[0m\u001b[0m\n",
      "\u001b[1;32m~\\anaconda3\\lib\\urllib\\request.py\u001b[0m in \u001b[0;36m_call_chain\u001b[1;34m(self, chain, kind, meth_name, *args)\u001b[0m\n\u001b[0;32m    500\u001b[0m         \u001b[1;32mfor\u001b[0m \u001b[0mhandler\u001b[0m \u001b[1;32min\u001b[0m \u001b[0mhandlers\u001b[0m\u001b[1;33m:\u001b[0m\u001b[1;33m\u001b[0m\u001b[1;33m\u001b[0m\u001b[0m\n\u001b[0;32m    501\u001b[0m             \u001b[0mfunc\u001b[0m \u001b[1;33m=\u001b[0m \u001b[0mgetattr\u001b[0m\u001b[1;33m(\u001b[0m\u001b[0mhandler\u001b[0m\u001b[1;33m,\u001b[0m \u001b[0mmeth_name\u001b[0m\u001b[1;33m)\u001b[0m\u001b[1;33m\u001b[0m\u001b[1;33m\u001b[0m\u001b[0m\n\u001b[1;32m--> 502\u001b[1;33m             \u001b[0mresult\u001b[0m \u001b[1;33m=\u001b[0m \u001b[0mfunc\u001b[0m\u001b[1;33m(\u001b[0m\u001b[1;33m*\u001b[0m\u001b[0margs\u001b[0m\u001b[1;33m)\u001b[0m\u001b[1;33m\u001b[0m\u001b[1;33m\u001b[0m\u001b[0m\n\u001b[0m\u001b[0;32m    503\u001b[0m             \u001b[1;32mif\u001b[0m \u001b[0mresult\u001b[0m \u001b[1;32mis\u001b[0m \u001b[1;32mnot\u001b[0m \u001b[1;32mNone\u001b[0m\u001b[1;33m:\u001b[0m\u001b[1;33m\u001b[0m\u001b[1;33m\u001b[0m\u001b[0m\n\u001b[0;32m    504\u001b[0m                 \u001b[1;32mreturn\u001b[0m \u001b[0mresult\u001b[0m\u001b[1;33m\u001b[0m\u001b[1;33m\u001b[0m\u001b[0m\n",
      "\u001b[1;32m~\\anaconda3\\lib\\urllib\\request.py\u001b[0m in \u001b[0;36mhttp_error_default\u001b[1;34m(self, req, fp, code, msg, hdrs)\u001b[0m\n\u001b[0;32m    647\u001b[0m \u001b[1;32mclass\u001b[0m \u001b[0mHTTPDefaultErrorHandler\u001b[0m\u001b[1;33m(\u001b[0m\u001b[0mBaseHandler\u001b[0m\u001b[1;33m)\u001b[0m\u001b[1;33m:\u001b[0m\u001b[1;33m\u001b[0m\u001b[1;33m\u001b[0m\u001b[0m\n\u001b[0;32m    648\u001b[0m     \u001b[1;32mdef\u001b[0m \u001b[0mhttp_error_default\u001b[0m\u001b[1;33m(\u001b[0m\u001b[0mself\u001b[0m\u001b[1;33m,\u001b[0m \u001b[0mreq\u001b[0m\u001b[1;33m,\u001b[0m \u001b[0mfp\u001b[0m\u001b[1;33m,\u001b[0m \u001b[0mcode\u001b[0m\u001b[1;33m,\u001b[0m \u001b[0mmsg\u001b[0m\u001b[1;33m,\u001b[0m \u001b[0mhdrs\u001b[0m\u001b[1;33m)\u001b[0m\u001b[1;33m:\u001b[0m\u001b[1;33m\u001b[0m\u001b[1;33m\u001b[0m\u001b[0m\n\u001b[1;32m--> 649\u001b[1;33m         \u001b[1;32mraise\u001b[0m \u001b[0mHTTPError\u001b[0m\u001b[1;33m(\u001b[0m\u001b[0mreq\u001b[0m\u001b[1;33m.\u001b[0m\u001b[0mfull_url\u001b[0m\u001b[1;33m,\u001b[0m \u001b[0mcode\u001b[0m\u001b[1;33m,\u001b[0m \u001b[0mmsg\u001b[0m\u001b[1;33m,\u001b[0m \u001b[0mhdrs\u001b[0m\u001b[1;33m,\u001b[0m \u001b[0mfp\u001b[0m\u001b[1;33m)\u001b[0m\u001b[1;33m\u001b[0m\u001b[1;33m\u001b[0m\u001b[0m\n\u001b[0m\u001b[0;32m    650\u001b[0m \u001b[1;33m\u001b[0m\u001b[0m\n\u001b[0;32m    651\u001b[0m \u001b[1;32mclass\u001b[0m \u001b[0mHTTPRedirectHandler\u001b[0m\u001b[1;33m(\u001b[0m\u001b[0mBaseHandler\u001b[0m\u001b[1;33m)\u001b[0m\u001b[1;33m:\u001b[0m\u001b[1;33m\u001b[0m\u001b[1;33m\u001b[0m\u001b[0m\n",
      "\u001b[1;31mHTTPError\u001b[0m: HTTP Error 403: Forbidden"
     ]
    }
   ],
   "source": [
    "#wget.download(https://www.kaggle.com/shivamkushwaha/bbc-full-text-document-classification)\n",
    "wget.download('https://lazyprogrammer.me/course_files/nlp/bbc_text_cls.csv')"
   ]
  },
  {
   "cell_type": "code",
   "execution_count": 10,
   "id": "f0fcdafb",
   "metadata": {
    "scrolled": true
   },
   "outputs": [
    {
     "name": "stderr",
     "output_type": "stream",
     "text": [
      "[nltk_data] Downloading package punkt to\n",
      "[nltk_data]     C:\\Users\\Chaitra.b.c\\AppData\\Roaming\\nltk_data...\n"
     ]
    },
    {
     "ename": "KeyboardInterrupt",
     "evalue": "",
     "output_type": "error",
     "traceback": [
      "\u001b[1;31m---------------------------------------------------------------------------\u001b[0m",
      "\u001b[1;31mKeyboardInterrupt\u001b[0m                         Traceback (most recent call last)",
      "\u001b[1;32m<ipython-input-10-9533fb74b295>\u001b[0m in \u001b[0;36m<module>\u001b[1;34m\u001b[0m\n\u001b[1;32m----> 1\u001b[1;33m \u001b[0mnltk\u001b[0m\u001b[1;33m.\u001b[0m\u001b[0mdownload\u001b[0m\u001b[1;33m(\u001b[0m\u001b[1;34m'punkt'\u001b[0m\u001b[1;33m)\u001b[0m\u001b[1;33m\u001b[0m\u001b[1;33m\u001b[0m\u001b[0m\n\u001b[0m",
      "\u001b[1;32m~\\anaconda3\\lib\\site-packages\\nltk\\downloader.py\u001b[0m in \u001b[0;36mdownload\u001b[1;34m(self, info_or_id, download_dir, quiet, force, prefix, halt_on_error, raise_on_error, print_error_to)\u001b[0m\n\u001b[0;32m    775\u001b[0m                 )\n\u001b[0;32m    776\u001b[0m \u001b[1;33m\u001b[0m\u001b[0m\n\u001b[1;32m--> 777\u001b[1;33m             \u001b[1;32mfor\u001b[0m \u001b[0mmsg\u001b[0m \u001b[1;32min\u001b[0m \u001b[0mself\u001b[0m\u001b[1;33m.\u001b[0m\u001b[0mincr_download\u001b[0m\u001b[1;33m(\u001b[0m\u001b[0minfo_or_id\u001b[0m\u001b[1;33m,\u001b[0m \u001b[0mdownload_dir\u001b[0m\u001b[1;33m,\u001b[0m \u001b[0mforce\u001b[0m\u001b[1;33m)\u001b[0m\u001b[1;33m:\u001b[0m\u001b[1;33m\u001b[0m\u001b[1;33m\u001b[0m\u001b[0m\n\u001b[0m\u001b[0;32m    778\u001b[0m                 \u001b[1;31m# Error messages\u001b[0m\u001b[1;33m\u001b[0m\u001b[1;33m\u001b[0m\u001b[1;33m\u001b[0m\u001b[0m\n\u001b[0;32m    779\u001b[0m                 \u001b[1;32mif\u001b[0m \u001b[0misinstance\u001b[0m\u001b[1;33m(\u001b[0m\u001b[0mmsg\u001b[0m\u001b[1;33m,\u001b[0m \u001b[0mErrorMessage\u001b[0m\u001b[1;33m)\u001b[0m\u001b[1;33m:\u001b[0m\u001b[1;33m\u001b[0m\u001b[1;33m\u001b[0m\u001b[0m\n",
      "\u001b[1;32m~\\anaconda3\\lib\\site-packages\\nltk\\downloader.py\u001b[0m in \u001b[0;36mincr_download\u001b[1;34m(self, info_or_id, download_dir, force)\u001b[0m\n\u001b[0;32m    640\u001b[0m         \u001b[1;31m# Handle Packages (delegate to a helper function).\u001b[0m\u001b[1;33m\u001b[0m\u001b[1;33m\u001b[0m\u001b[1;33m\u001b[0m\u001b[0m\n\u001b[0;32m    641\u001b[0m         \u001b[1;32melse\u001b[0m\u001b[1;33m:\u001b[0m\u001b[1;33m\u001b[0m\u001b[1;33m\u001b[0m\u001b[0m\n\u001b[1;32m--> 642\u001b[1;33m             \u001b[1;32myield\u001b[0m \u001b[1;32mfrom\u001b[0m \u001b[0mself\u001b[0m\u001b[1;33m.\u001b[0m\u001b[0m_download_package\u001b[0m\u001b[1;33m(\u001b[0m\u001b[0minfo\u001b[0m\u001b[1;33m,\u001b[0m \u001b[0mdownload_dir\u001b[0m\u001b[1;33m,\u001b[0m \u001b[0mforce\u001b[0m\u001b[1;33m)\u001b[0m\u001b[1;33m\u001b[0m\u001b[1;33m\u001b[0m\u001b[0m\n\u001b[0m\u001b[0;32m    643\u001b[0m \u001b[1;33m\u001b[0m\u001b[0m\n\u001b[0;32m    644\u001b[0m     \u001b[1;32mdef\u001b[0m \u001b[0m_num_packages\u001b[0m\u001b[1;33m(\u001b[0m\u001b[0mself\u001b[0m\u001b[1;33m,\u001b[0m \u001b[0mitem\u001b[0m\u001b[1;33m)\u001b[0m\u001b[1;33m:\u001b[0m\u001b[1;33m\u001b[0m\u001b[1;33m\u001b[0m\u001b[0m\n",
      "\u001b[1;32m~\\anaconda3\\lib\\site-packages\\nltk\\downloader.py\u001b[0m in \u001b[0;36m_download_package\u001b[1;34m(self, info, download_dir, force)\u001b[0m\n\u001b[0;32m    710\u001b[0m                 \u001b[0mnum_blocks\u001b[0m \u001b[1;33m=\u001b[0m \u001b[0mmax\u001b[0m\u001b[1;33m(\u001b[0m\u001b[1;36m1\u001b[0m\u001b[1;33m,\u001b[0m \u001b[0minfo\u001b[0m\u001b[1;33m.\u001b[0m\u001b[0msize\u001b[0m \u001b[1;33m/\u001b[0m \u001b[1;33m(\u001b[0m\u001b[1;36m1024\u001b[0m \u001b[1;33m*\u001b[0m \u001b[1;36m16\u001b[0m\u001b[1;33m)\u001b[0m\u001b[1;33m)\u001b[0m\u001b[1;33m\u001b[0m\u001b[1;33m\u001b[0m\u001b[0m\n\u001b[0;32m    711\u001b[0m                 \u001b[1;32mfor\u001b[0m \u001b[0mblock\u001b[0m \u001b[1;32min\u001b[0m \u001b[0mitertools\u001b[0m\u001b[1;33m.\u001b[0m\u001b[0mcount\u001b[0m\u001b[1;33m(\u001b[0m\u001b[1;33m)\u001b[0m\u001b[1;33m:\u001b[0m\u001b[1;33m\u001b[0m\u001b[1;33m\u001b[0m\u001b[0m\n\u001b[1;32m--> 712\u001b[1;33m                     \u001b[0ms\u001b[0m \u001b[1;33m=\u001b[0m \u001b[0minfile\u001b[0m\u001b[1;33m.\u001b[0m\u001b[0mread\u001b[0m\u001b[1;33m(\u001b[0m\u001b[1;36m1024\u001b[0m \u001b[1;33m*\u001b[0m \u001b[1;36m16\u001b[0m\u001b[1;33m)\u001b[0m  \u001b[1;31m# 16k blocks.\u001b[0m\u001b[1;33m\u001b[0m\u001b[1;33m\u001b[0m\u001b[0m\n\u001b[0m\u001b[0;32m    713\u001b[0m                     \u001b[0moutfile\u001b[0m\u001b[1;33m.\u001b[0m\u001b[0mwrite\u001b[0m\u001b[1;33m(\u001b[0m\u001b[0ms\u001b[0m\u001b[1;33m)\u001b[0m\u001b[1;33m\u001b[0m\u001b[1;33m\u001b[0m\u001b[0m\n\u001b[0;32m    714\u001b[0m                     \u001b[1;32mif\u001b[0m \u001b[1;32mnot\u001b[0m \u001b[0ms\u001b[0m\u001b[1;33m:\u001b[0m\u001b[1;33m\u001b[0m\u001b[1;33m\u001b[0m\u001b[0m\n",
      "\u001b[1;32m~\\anaconda3\\lib\\http\\client.py\u001b[0m in \u001b[0;36mread\u001b[1;34m(self, amt)\u001b[0m\n\u001b[0;32m    456\u001b[0m             \u001b[1;31m# Amount is given, implement using readinto\u001b[0m\u001b[1;33m\u001b[0m\u001b[1;33m\u001b[0m\u001b[1;33m\u001b[0m\u001b[0m\n\u001b[0;32m    457\u001b[0m             \u001b[0mb\u001b[0m \u001b[1;33m=\u001b[0m \u001b[0mbytearray\u001b[0m\u001b[1;33m(\u001b[0m\u001b[0mamt\u001b[0m\u001b[1;33m)\u001b[0m\u001b[1;33m\u001b[0m\u001b[1;33m\u001b[0m\u001b[0m\n\u001b[1;32m--> 458\u001b[1;33m             \u001b[0mn\u001b[0m \u001b[1;33m=\u001b[0m \u001b[0mself\u001b[0m\u001b[1;33m.\u001b[0m\u001b[0mreadinto\u001b[0m\u001b[1;33m(\u001b[0m\u001b[0mb\u001b[0m\u001b[1;33m)\u001b[0m\u001b[1;33m\u001b[0m\u001b[1;33m\u001b[0m\u001b[0m\n\u001b[0m\u001b[0;32m    459\u001b[0m             \u001b[1;32mreturn\u001b[0m \u001b[0mmemoryview\u001b[0m\u001b[1;33m(\u001b[0m\u001b[0mb\u001b[0m\u001b[1;33m)\u001b[0m\u001b[1;33m[\u001b[0m\u001b[1;33m:\u001b[0m\u001b[0mn\u001b[0m\u001b[1;33m]\u001b[0m\u001b[1;33m.\u001b[0m\u001b[0mtobytes\u001b[0m\u001b[1;33m(\u001b[0m\u001b[1;33m)\u001b[0m\u001b[1;33m\u001b[0m\u001b[1;33m\u001b[0m\u001b[0m\n\u001b[0;32m    460\u001b[0m         \u001b[1;32melse\u001b[0m\u001b[1;33m:\u001b[0m\u001b[1;33m\u001b[0m\u001b[1;33m\u001b[0m\u001b[0m\n",
      "\u001b[1;32m~\\anaconda3\\lib\\http\\client.py\u001b[0m in \u001b[0;36mreadinto\u001b[1;34m(self, b)\u001b[0m\n\u001b[0;32m    500\u001b[0m         \u001b[1;31m# connection, and the user is reading more bytes than will be provided\u001b[0m\u001b[1;33m\u001b[0m\u001b[1;33m\u001b[0m\u001b[1;33m\u001b[0m\u001b[0m\n\u001b[0;32m    501\u001b[0m         \u001b[1;31m# (for example, reading in 1k chunks)\u001b[0m\u001b[1;33m\u001b[0m\u001b[1;33m\u001b[0m\u001b[1;33m\u001b[0m\u001b[0m\n\u001b[1;32m--> 502\u001b[1;33m         \u001b[0mn\u001b[0m \u001b[1;33m=\u001b[0m \u001b[0mself\u001b[0m\u001b[1;33m.\u001b[0m\u001b[0mfp\u001b[0m\u001b[1;33m.\u001b[0m\u001b[0mreadinto\u001b[0m\u001b[1;33m(\u001b[0m\u001b[0mb\u001b[0m\u001b[1;33m)\u001b[0m\u001b[1;33m\u001b[0m\u001b[1;33m\u001b[0m\u001b[0m\n\u001b[0m\u001b[0;32m    503\u001b[0m         \u001b[1;32mif\u001b[0m \u001b[1;32mnot\u001b[0m \u001b[0mn\u001b[0m \u001b[1;32mand\u001b[0m \u001b[0mb\u001b[0m\u001b[1;33m:\u001b[0m\u001b[1;33m\u001b[0m\u001b[1;33m\u001b[0m\u001b[0m\n\u001b[0;32m    504\u001b[0m             \u001b[1;31m# Ideally, we would raise IncompleteRead if the content-length\u001b[0m\u001b[1;33m\u001b[0m\u001b[1;33m\u001b[0m\u001b[1;33m\u001b[0m\u001b[0m\n",
      "\u001b[1;32m~\\anaconda3\\lib\\socket.py\u001b[0m in \u001b[0;36mreadinto\u001b[1;34m(self, b)\u001b[0m\n\u001b[0;32m    667\u001b[0m         \u001b[1;32mwhile\u001b[0m \u001b[1;32mTrue\u001b[0m\u001b[1;33m:\u001b[0m\u001b[1;33m\u001b[0m\u001b[1;33m\u001b[0m\u001b[0m\n\u001b[0;32m    668\u001b[0m             \u001b[1;32mtry\u001b[0m\u001b[1;33m:\u001b[0m\u001b[1;33m\u001b[0m\u001b[1;33m\u001b[0m\u001b[0m\n\u001b[1;32m--> 669\u001b[1;33m                 \u001b[1;32mreturn\u001b[0m \u001b[0mself\u001b[0m\u001b[1;33m.\u001b[0m\u001b[0m_sock\u001b[0m\u001b[1;33m.\u001b[0m\u001b[0mrecv_into\u001b[0m\u001b[1;33m(\u001b[0m\u001b[0mb\u001b[0m\u001b[1;33m)\u001b[0m\u001b[1;33m\u001b[0m\u001b[1;33m\u001b[0m\u001b[0m\n\u001b[0m\u001b[0;32m    670\u001b[0m             \u001b[1;32mexcept\u001b[0m \u001b[0mtimeout\u001b[0m\u001b[1;33m:\u001b[0m\u001b[1;33m\u001b[0m\u001b[1;33m\u001b[0m\u001b[0m\n\u001b[0;32m    671\u001b[0m                 \u001b[0mself\u001b[0m\u001b[1;33m.\u001b[0m\u001b[0m_timeout_occurred\u001b[0m \u001b[1;33m=\u001b[0m \u001b[1;32mTrue\u001b[0m\u001b[1;33m\u001b[0m\u001b[1;33m\u001b[0m\u001b[0m\n",
      "\u001b[1;32m~\\anaconda3\\lib\\ssl.py\u001b[0m in \u001b[0;36mrecv_into\u001b[1;34m(self, buffer, nbytes, flags)\u001b[0m\n\u001b[0;32m   1239\u001b[0m                   \u001b[1;34m\"non-zero flags not allowed in calls to recv_into() on %s\"\u001b[0m \u001b[1;33m%\u001b[0m\u001b[1;33m\u001b[0m\u001b[1;33m\u001b[0m\u001b[0m\n\u001b[0;32m   1240\u001b[0m                   self.__class__)\n\u001b[1;32m-> 1241\u001b[1;33m             \u001b[1;32mreturn\u001b[0m \u001b[0mself\u001b[0m\u001b[1;33m.\u001b[0m\u001b[0mread\u001b[0m\u001b[1;33m(\u001b[0m\u001b[0mnbytes\u001b[0m\u001b[1;33m,\u001b[0m \u001b[0mbuffer\u001b[0m\u001b[1;33m)\u001b[0m\u001b[1;33m\u001b[0m\u001b[1;33m\u001b[0m\u001b[0m\n\u001b[0m\u001b[0;32m   1242\u001b[0m         \u001b[1;32melse\u001b[0m\u001b[1;33m:\u001b[0m\u001b[1;33m\u001b[0m\u001b[1;33m\u001b[0m\u001b[0m\n\u001b[0;32m   1243\u001b[0m             \u001b[1;32mreturn\u001b[0m \u001b[0msuper\u001b[0m\u001b[1;33m(\u001b[0m\u001b[1;33m)\u001b[0m\u001b[1;33m.\u001b[0m\u001b[0mrecv_into\u001b[0m\u001b[1;33m(\u001b[0m\u001b[0mbuffer\u001b[0m\u001b[1;33m,\u001b[0m \u001b[0mnbytes\u001b[0m\u001b[1;33m,\u001b[0m \u001b[0mflags\u001b[0m\u001b[1;33m)\u001b[0m\u001b[1;33m\u001b[0m\u001b[1;33m\u001b[0m\u001b[0m\n",
      "\u001b[1;32m~\\anaconda3\\lib\\ssl.py\u001b[0m in \u001b[0;36mread\u001b[1;34m(self, len, buffer)\u001b[0m\n\u001b[0;32m   1097\u001b[0m         \u001b[1;32mtry\u001b[0m\u001b[1;33m:\u001b[0m\u001b[1;33m\u001b[0m\u001b[1;33m\u001b[0m\u001b[0m\n\u001b[0;32m   1098\u001b[0m             \u001b[1;32mif\u001b[0m \u001b[0mbuffer\u001b[0m \u001b[1;32mis\u001b[0m \u001b[1;32mnot\u001b[0m \u001b[1;32mNone\u001b[0m\u001b[1;33m:\u001b[0m\u001b[1;33m\u001b[0m\u001b[1;33m\u001b[0m\u001b[0m\n\u001b[1;32m-> 1099\u001b[1;33m                 \u001b[1;32mreturn\u001b[0m \u001b[0mself\u001b[0m\u001b[1;33m.\u001b[0m\u001b[0m_sslobj\u001b[0m\u001b[1;33m.\u001b[0m\u001b[0mread\u001b[0m\u001b[1;33m(\u001b[0m\u001b[0mlen\u001b[0m\u001b[1;33m,\u001b[0m \u001b[0mbuffer\u001b[0m\u001b[1;33m)\u001b[0m\u001b[1;33m\u001b[0m\u001b[1;33m\u001b[0m\u001b[0m\n\u001b[0m\u001b[0;32m   1100\u001b[0m             \u001b[1;32melse\u001b[0m\u001b[1;33m:\u001b[0m\u001b[1;33m\u001b[0m\u001b[1;33m\u001b[0m\u001b[0m\n\u001b[0;32m   1101\u001b[0m                 \u001b[1;32mreturn\u001b[0m \u001b[0mself\u001b[0m\u001b[1;33m.\u001b[0m\u001b[0m_sslobj\u001b[0m\u001b[1;33m.\u001b[0m\u001b[0mread\u001b[0m\u001b[1;33m(\u001b[0m\u001b[0mlen\u001b[0m\u001b[1;33m)\u001b[0m\u001b[1;33m\u001b[0m\u001b[1;33m\u001b[0m\u001b[0m\n",
      "\u001b[1;31mKeyboardInterrupt\u001b[0m: "
     ]
    }
   ],
   "source": [
    "nltk.download('punkt')"
   ]
  },
  {
   "cell_type": "code",
   "execution_count": 43,
   "id": "5f32d98b",
   "metadata": {},
   "outputs": [
    {
     "data": {
      "text/html": [
       "<div>\n",
       "<style scoped>\n",
       "    .dataframe tbody tr th:only-of-type {\n",
       "        vertical-align: middle;\n",
       "    }\n",
       "\n",
       "    .dataframe tbody tr th {\n",
       "        vertical-align: top;\n",
       "    }\n",
       "\n",
       "    .dataframe thead th {\n",
       "        text-align: right;\n",
       "    }\n",
       "</style>\n",
       "<table border=\"1\" class=\"dataframe\">\n",
       "  <thead>\n",
       "    <tr style=\"text-align: right;\">\n",
       "      <th></th>\n",
       "      <th>text</th>\n",
       "      <th>labels</th>\n",
       "    </tr>\n",
       "  </thead>\n",
       "  <tbody>\n",
       "    <tr>\n",
       "      <th>0</th>\n",
       "      <td>Ad sales boost Time Warner profit\\n\\nQuarterly...</td>\n",
       "      <td>business</td>\n",
       "    </tr>\n",
       "    <tr>\n",
       "      <th>1</th>\n",
       "      <td>Dollar gains on Greenspan speech\\n\\nThe dollar...</td>\n",
       "      <td>business</td>\n",
       "    </tr>\n",
       "    <tr>\n",
       "      <th>2</th>\n",
       "      <td>Yukos unit buyer faces loan claim\\n\\nThe owner...</td>\n",
       "      <td>business</td>\n",
       "    </tr>\n",
       "    <tr>\n",
       "      <th>3</th>\n",
       "      <td>High fuel prices hit BA's profits\\n\\nBritish A...</td>\n",
       "      <td>business</td>\n",
       "    </tr>\n",
       "    <tr>\n",
       "      <th>4</th>\n",
       "      <td>Pernod takeover talk lifts Domecq\\n\\nShares in...</td>\n",
       "      <td>business</td>\n",
       "    </tr>\n",
       "  </tbody>\n",
       "</table>\n",
       "</div>"
      ],
      "text/plain": [
       "                                                text    labels\n",
       "0  Ad sales boost Time Warner profit\\n\\nQuarterly...  business\n",
       "1  Dollar gains on Greenspan speech\\n\\nThe dollar...  business\n",
       "2  Yukos unit buyer faces loan claim\\n\\nThe owner...  business\n",
       "3  High fuel prices hit BA's profits\\n\\nBritish A...  business\n",
       "4  Pernod takeover talk lifts Domecq\\n\\nShares in...  business"
      ]
     },
     "execution_count": 43,
     "metadata": {},
     "output_type": "execute_result"
    }
   ],
   "source": [
    "# Loading the dataset.\n",
    "bbc_df = pd.read_csv(r'C:\\Users\\Chaitra.b.c\\Downloads\\bbc_text_cls.csv')\n",
    "bbc_df.head()"
   ]
  },
  {
   "cell_type": "code",
   "execution_count": 44,
   "id": "7585e67b",
   "metadata": {},
   "outputs": [],
   "source": [
    "# assinging inputs and labels\n",
    "inputs = bbc_df['text']\n",
    "labels = bbc_df['labels']"
   ]
  },
  {
   "cell_type": "code",
   "execution_count": 45,
   "id": "6facefc0",
   "metadata": {},
   "outputs": [
    {
     "data": {
      "text/plain": [
       "0       Ad sales boost Time Warner profit\\n\\nQuarterly...\n",
       "1       Dollar gains on Greenspan speech\\n\\nThe dollar...\n",
       "2       Yukos unit buyer faces loan claim\\n\\nThe owner...\n",
       "3       High fuel prices hit BA's profits\\n\\nBritish A...\n",
       "4       Pernod takeover talk lifts Domecq\\n\\nShares in...\n",
       "                              ...                        \n",
       "2220    BT program to beat dialler scams\\n\\nBT is intr...\n",
       "2221    Spam e-mails tempt net shoppers\\n\\nComputer us...\n",
       "2222    Be careful how you code\\n\\nA new European dire...\n",
       "2223    US cyber security chief resigns\\n\\nThe man mak...\n",
       "2224    Losing yourself in online gaming\\n\\nOnline rol...\n",
       "Name: text, Length: 2225, dtype: object"
      ]
     },
     "execution_count": 45,
     "metadata": {},
     "output_type": "execute_result"
    }
   ],
   "source": [
    "inputs"
   ]
  },
  {
   "cell_type": "code",
   "execution_count": 46,
   "id": "535b851b",
   "metadata": {},
   "outputs": [
    {
     "data": {
      "text/plain": [
       "0       business\n",
       "1       business\n",
       "2       business\n",
       "3       business\n",
       "4       business\n",
       "          ...   \n",
       "2220        tech\n",
       "2221        tech\n",
       "2222        tech\n",
       "2223        tech\n",
       "2224        tech\n",
       "Name: labels, Length: 2225, dtype: object"
      ]
     },
     "execution_count": 46,
     "metadata": {},
     "output_type": "execute_result"
    }
   ],
   "source": [
    "labels"
   ]
  },
  {
   "cell_type": "code",
   "execution_count": 47,
   "id": "18d33903",
   "metadata": {},
   "outputs": [
    {
     "data": {
      "text/plain": [
       "['__annotations__',\n",
       " '__call__',\n",
       " '__class__',\n",
       " '__closure__',\n",
       " '__code__',\n",
       " '__defaults__',\n",
       " '__delattr__',\n",
       " '__dict__',\n",
       " '__dir__',\n",
       " '__doc__',\n",
       " '__eq__',\n",
       " '__format__',\n",
       " '__ge__',\n",
       " '__get__',\n",
       " '__getattribute__',\n",
       " '__globals__',\n",
       " '__gt__',\n",
       " '__hash__',\n",
       " '__init__',\n",
       " '__init_subclass__',\n",
       " '__kwdefaults__',\n",
       " '__le__',\n",
       " '__lt__',\n",
       " '__module__',\n",
       " '__name__',\n",
       " '__ne__',\n",
       " '__new__',\n",
       " '__qualname__',\n",
       " '__reduce__',\n",
       " '__reduce_ex__',\n",
       " '__repr__',\n",
       " '__setattr__',\n",
       " '__sizeof__',\n",
       " '__str__',\n",
       " '__subclasshook__',\n",
       " '__test__']"
      ]
     },
     "execution_count": 47,
     "metadata": {},
     "output_type": "execute_result"
    }
   ],
   "source": [
    "dir(train_test_split)"
   ]
  },
  {
   "cell_type": "code",
   "execution_count": 48,
   "id": "0c5a5b6e",
   "metadata": {},
   "outputs": [],
   "source": [
    "# Splitting the input and labels into train and test data\n",
    "\n",
    "X_train, X_test, y_train, y_test = train_test_split(inputs, labels, test_size = 0.3, random_state = 42)"
   ]
  },
  {
   "cell_type": "code",
   "execution_count": 49,
   "id": "df0a2eb8",
   "metadata": {},
   "outputs": [
    {
     "data": {
      "text/plain": [
       "1617    Kirwan demands Italy consistency\\n\\nItaly coac...\n",
       "1706    Tindall wants second opinion\\n\\nEngland centre...\n",
       "1639    Sella wants Michalak recall\\n\\nFormer France c...\n",
       "1221    Prime minister's questions\\n\\nSo who, if anyon...\n",
       "680     US 'to raise TV indecency fines'\\n\\nUS politic...\n",
       "Name: text, dtype: object"
      ]
     },
     "execution_count": 49,
     "metadata": {},
     "output_type": "execute_result"
    }
   ],
   "source": [
    "X_train.head()"
   ]
  },
  {
   "cell_type": "code",
   "execution_count": 50,
   "id": "271eac77",
   "metadata": {},
   "outputs": [
    {
     "data": {
      "text/plain": [
       "414     UK house prices dip in November\\n\\nUK house pr...\n",
       "420     LSE 'sets date for takeover deal'\\n\\nThe Londo...\n",
       "1644    Harinordoquy suffers France axe\\n\\nNumber eigh...\n",
       "416     Barclays shares up on merger talk\\n\\nShares in...\n",
       "1232    Campaign 'cold calls' questioned\\n\\nLabour and...\n",
       "Name: text, dtype: object"
      ]
     },
     "execution_count": 50,
     "metadata": {},
     "output_type": "execute_result"
    }
   ],
   "source": [
    "X_test.head()"
   ]
  },
  {
   "cell_type": "code",
   "execution_count": 51,
   "id": "bcfd9492",
   "metadata": {},
   "outputs": [
    {
     "data": {
      "text/plain": [
       "1617            sport\n",
       "1706            sport\n",
       "1639            sport\n",
       "1221         politics\n",
       "680     entertainment\n",
       "Name: labels, dtype: object"
      ]
     },
     "execution_count": 51,
     "metadata": {},
     "output_type": "execute_result"
    }
   ],
   "source": [
    "y_train.head()"
   ]
  },
  {
   "cell_type": "code",
   "execution_count": 52,
   "id": "d01c0365",
   "metadata": {},
   "outputs": [],
   "source": [
    "# Simple string split\n",
    "def string_split(doc):\n",
    "    return [ word for sentence in doc.split('\\n') for word in sentence.split(' ') ]"
   ]
  },
  {
   "cell_type": "code",
   "execution_count": 53,
   "id": "1d359bfe",
   "metadata": {},
   "outputs": [],
   "source": [
    "# Process the text ie. convert the text into vectors.\n",
    "# creating a CountVectorizer object\n",
    "# We pass the function to tokenizer. The tokenizer argument should be callable, \n",
    "# therefore it has to be a function or a class.\n",
    "str_split_vec = CountVectorizer(analyzer = 'word', ngram_range = (1,1), tokenizer = string_split)"
   ]
  },
  {
   "cell_type": "code",
   "execution_count": 54,
   "id": "27202971",
   "metadata": {},
   "outputs": [
    {
     "data": {
      "text/plain": [
       "<1557x50068 sparse matrix of type '<class 'numpy.int64'>'\n",
       "\twith 346331 stored elements in Compressed Sparse Row format>"
      ]
     },
     "execution_count": 54,
     "metadata": {},
     "output_type": "execute_result"
    }
   ],
   "source": [
    "# Convertion of Xtrain data into vectors.\n",
    "X_train = str_split_vec.fit_transform(X_train)\n",
    "X_train"
   ]
  },
  {
   "cell_type": "code",
   "execution_count": 55,
   "id": "2f9e8f23",
   "metadata": {},
   "outputs": [
    {
     "data": {
      "text/plain": [
       "<668x50068 sparse matrix of type '<class 'numpy.int64'>'\n",
       "\twith 135157 stored elements in Compressed Sparse Row format>"
      ]
     },
     "execution_count": 55,
     "metadata": {},
     "output_type": "execute_result"
    }
   ],
   "source": [
    "# transforming the test data.\n",
    "X_test = str_split_vec.transform(X_test)\n",
    "X_test"
   ]
  },
  {
   "cell_type": "code",
   "execution_count": 56,
   "id": "e32bc875",
   "metadata": {},
   "outputs": [
    {
     "data": {
      "text/plain": [
       "MultinomialNB()"
      ]
     },
     "execution_count": 56,
     "metadata": {},
     "output_type": "execute_result"
    }
   ],
   "source": [
    "# Creation and training of Naive-Bayes model\n",
    "str_split_NB = MultinomialNB()\n",
    "str_split_NB.fit(X_train,y_train)\n"
   ]
  },
  {
   "cell_type": "code",
   "execution_count": 58,
   "id": "1901e6b4",
   "metadata": {},
   "outputs": [
    {
     "data": {
      "text/plain": [
       "array(['business', 'business', 'sport', 'business', 'politics', 'sport',\n",
       "       'sport', 'politics', 'sport', 'politics', 'business',\n",
       "       'entertainment', 'sport', 'business', 'entertainment', 'business',\n",
       "       'tech', 'entertainment', 'business', 'entertainment', 'business',\n",
       "       'sport', 'business', 'entertainment', 'business', 'sport',\n",
       "       'entertainment', 'sport', 'politics', 'sport', 'sport', 'politics',\n",
       "       'tech', 'entertainment', 'business', 'business', 'business',\n",
       "       'sport', 'tech', 'sport', 'tech', 'politics', 'business', 'sport',\n",
       "       'tech', 'tech', 'tech', 'business', 'business', 'tech',\n",
       "       'entertainment', 'business', 'politics', 'business',\n",
       "       'entertainment', 'politics', 'politics', 'politics', 'business',\n",
       "       'business', 'business', 'business', 'entertainment', 'politics',\n",
       "       'sport', 'entertainment', 'business', 'business', 'politics',\n",
       "       'sport', 'politics', 'politics', 'tech', 'sport', 'politics',\n",
       "       'sport', 'sport', 'entertainment', 'business', 'business', 'sport',\n",
       "       'sport', 'business', 'entertainment', 'entertainment', 'sport',\n",
       "       'sport', 'sport', 'entertainment', 'sport', 'sport', 'business',\n",
       "       'politics', 'business', 'sport', 'business', 'tech', 'tech',\n",
       "       'business', 'politics', 'business', 'politics', 'tech', 'business',\n",
       "       'sport', 'politics', 'sport', 'tech', 'entertainment', 'politics',\n",
       "       'business', 'tech', 'entertainment', 'business', 'politics',\n",
       "       'sport', 'entertainment', 'entertainment', 'entertainment',\n",
       "       'sport', 'politics', 'politics', 'business', 'politics', 'tech',\n",
       "       'tech', 'tech', 'entertainment', 'business', 'entertainment',\n",
       "       'sport', 'entertainment', 'entertainment', 'sport', 'sport',\n",
       "       'politics', 'business', 'business', 'entertainment', 'tech',\n",
       "       'tech', 'business', 'politics', 'business', 'tech',\n",
       "       'entertainment', 'tech', 'business', 'business', 'politics',\n",
       "       'sport', 'entertainment', 'business', 'tech', 'tech', 'sport',\n",
       "       'sport', 'entertainment', 'business', 'entertainment', 'tech',\n",
       "       'entertainment', 'business', 'politics', 'tech', 'entertainment',\n",
       "       'business', 'tech', 'tech', 'entertainment', 'politics', 'sport',\n",
       "       'tech', 'entertainment', 'sport', 'tech', 'politics', 'politics',\n",
       "       'business', 'sport', 'politics', 'sport', 'business', 'politics',\n",
       "       'tech', 'sport', 'entertainment', 'sport', 'tech', 'business',\n",
       "       'business', 'sport', 'entertainment', 'tech', 'tech', 'politics',\n",
       "       'politics', 'politics', 'sport', 'tech', 'sport', 'entertainment',\n",
       "       'business', 'tech', 'business', 'politics', 'sport', 'politics',\n",
       "       'sport', 'sport', 'sport', 'tech', 'tech', 'entertainment',\n",
       "       'sport', 'politics', 'tech', 'tech', 'business', 'tech',\n",
       "       'business', 'politics', 'business', 'entertainment', 'politics',\n",
       "       'politics', 'politics', 'politics', 'business', 'politics',\n",
       "       'sport', 'sport', 'entertainment', 'politics', 'tech', 'sport',\n",
       "       'entertainment', 'business', 'tech', 'tech', 'sport', 'business',\n",
       "       'politics', 'sport', 'business', 'business', 'business',\n",
       "       'business', 'sport', 'business', 'politics', 'sport', 'tech',\n",
       "       'business', 'entertainment', 'sport', 'entertainment', 'sport',\n",
       "       'sport', 'sport', 'politics', 'tech', 'business', 'entertainment',\n",
       "       'sport', 'business', 'politics', 'sport', 'business', 'business',\n",
       "       'business', 'business', 'business', 'entertainment', 'business',\n",
       "       'sport', 'entertainment', 'politics', 'tech', 'business',\n",
       "       'business', 'tech', 'business', 'business', 'business', 'tech',\n",
       "       'politics', 'sport', 'business', 'tech', 'business',\n",
       "       'entertainment', 'business', 'entertainment', 'politics',\n",
       "       'business', 'business', 'tech', 'business', 'tech', 'sport',\n",
       "       'politics', 'tech', 'politics', 'sport', 'entertainment',\n",
       "       'business', 'politics', 'tech', 'business', 'sport', 'politics',\n",
       "       'sport', 'tech', 'tech', 'tech', 'sport', 'business', 'sport',\n",
       "       'sport', 'politics', 'tech', 'tech', 'tech', 'entertainment',\n",
       "       'business', 'business', 'tech', 'sport', 'politics', 'politics',\n",
       "       'business', 'sport', 'business', 'politics', 'sport', 'politics',\n",
       "       'politics', 'sport', 'politics', 'business', 'sport', 'politics',\n",
       "       'business', 'entertainment', 'business', 'sport', 'entertainment',\n",
       "       'sport', 'tech', 'tech', 'tech', 'entertainment', 'entertainment',\n",
       "       'politics', 'sport', 'entertainment', 'sport', 'tech', 'tech',\n",
       "       'politics', 'tech', 'business', 'sport', 'sport', 'tech',\n",
       "       'politics', 'politics', 'business', 'tech', 'business', 'sport',\n",
       "       'tech', 'politics', 'tech', 'business', 'politics', 'politics',\n",
       "       'sport', 'tech', 'politics', 'sport', 'entertainment', 'business',\n",
       "       'business', 'sport', 'business', 'tech', 'tech', 'entertainment',\n",
       "       'politics', 'tech', 'sport', 'sport', 'sport', 'entertainment',\n",
       "       'sport', 'sport', 'politics', 'business', 'tech', 'sport',\n",
       "       'entertainment', 'entertainment', 'politics', 'business',\n",
       "       'business', 'entertainment', 'tech', 'tech', 'tech',\n",
       "       'entertainment', 'tech', 'sport', 'sport', 'sport', 'business',\n",
       "       'politics', 'tech', 'politics', 'business', 'politics', 'business',\n",
       "       'politics', 'sport', 'business', 'entertainment', 'politics',\n",
       "       'politics', 'politics', 'sport', 'sport', 'entertainment', 'tech',\n",
       "       'sport', 'tech', 'tech', 'sport', 'sport', 'politics',\n",
       "       'entertainment', 'business', 'politics', 'entertainment',\n",
       "       'business', 'sport', 'tech', 'sport', 'tech', 'entertainment',\n",
       "       'business', 'tech', 'business', 'entertainment', 'politics',\n",
       "       'politics', 'business', 'business', 'business', 'tech',\n",
       "       'entertainment', 'politics', 'business', 'sport', 'sport', 'tech',\n",
       "       'business', 'business', 'sport', 'tech', 'sport', 'politics',\n",
       "       'entertainment', 'tech', 'politics', 'sport', 'business', 'sport',\n",
       "       'sport', 'tech', 'entertainment', 'sport', 'sport', 'business',\n",
       "       'tech', 'tech', 'business', 'politics', 'entertainment',\n",
       "       'business', 'entertainment', 'entertainment', 'business',\n",
       "       'politics', 'business', 'sport', 'tech', 'sport', 'tech',\n",
       "       'politics', 'politics', 'entertainment', 'tech', 'politics',\n",
       "       'tech', 'business', 'business', 'business', 'entertainment',\n",
       "       'sport', 'entertainment', 'sport', 'tech', 'business', 'politics',\n",
       "       'politics', 'sport', 'tech', 'entertainment', 'entertainment',\n",
       "       'business', 'entertainment', 'business', 'tech', 'business',\n",
       "       'entertainment', 'sport', 'tech', 'tech', 'entertainment', 'sport',\n",
       "       'politics', 'business', 'business', 'politics', 'tech', 'tech',\n",
       "       'politics', 'politics', 'tech', 'sport', 'entertainment', 'tech',\n",
       "       'tech', 'tech', 'politics', 'entertainment', 'business',\n",
       "       'entertainment', 'business', 'tech', 'entertainment',\n",
       "       'entertainment', 'politics', 'politics', 'sport', 'entertainment',\n",
       "       'business', 'politics', 'sport', 'sport', 'politics', 'politics',\n",
       "       'business', 'tech', 'entertainment', 'business', 'sport', 'sport',\n",
       "       'tech', 'politics', 'sport', 'business', 'politics', 'business',\n",
       "       'politics', 'entertainment', 'business', 'tech', 'sport', 'sport',\n",
       "       'politics', 'tech', 'entertainment', 'politics', 'business',\n",
       "       'entertainment', 'entertainment', 'sport', 'sport', 'business',\n",
       "       'business', 'politics', 'tech', 'tech', 'tech', 'business',\n",
       "       'entertainment', 'entertainment', 'politics', 'entertainment',\n",
       "       'entertainment', 'politics', 'sport', 'entertainment', 'sport',\n",
       "       'business', 'tech', 'politics', 'politics', 'business', 'sport',\n",
       "       'business', 'entertainment', 'tech', 'politics', 'tech', 'tech',\n",
       "       'business', 'sport', 'business', 'politics', 'entertainment',\n",
       "       'business', 'business', 'entertainment', 'tech', 'business',\n",
       "       'business', 'tech', 'business', 'sport', 'business', 'politics',\n",
       "       'sport', 'entertainment', 'politics', 'sport', 'tech', 'sport',\n",
       "       'tech', 'entertainment', 'politics', 'entertainment', 'tech',\n",
       "       'entertainment', 'entertainment', 'tech', 'tech', 'tech',\n",
       "       'entertainment', 'tech', 'politics', 'politics', 'politics',\n",
       "       'politics', 'entertainment', 'politics', 'entertainment',\n",
       "       'business', 'politics', 'sport', 'entertainment', 'politics',\n",
       "       'tech', 'entertainment', 'entertainment', 'tech'], dtype='<U13')"
      ]
     },
     "execution_count": 58,
     "metadata": {},
     "output_type": "execute_result"
    }
   ],
   "source": [
    "# Prediction from the model.\n",
    "y_predict = str_split_NB.predict(X_test)\n",
    "y_predict"
   ]
  },
  {
   "cell_type": "code",
   "execution_count": 60,
   "id": "173f71c1",
   "metadata": {},
   "outputs": [
    {
     "name": "stdout",
     "output_type": "stream",
     "text": [
      "Train Score :  0.9980732177263969\n",
      "Test Score :  0.9640718562874252\n"
     ]
    }
   ],
   "source": [
    "# scores on Train and test set.\n",
    "print('Train Score : ',str_split_NB.score(X_train,y_train))\n",
    "print('Test Score : ',str_split_NB.score(X_test,y_test))"
   ]
  },
  {
   "cell_type": "markdown",
   "id": "1d460606",
   "metadata": {},
   "source": [
    "# Training model using Stemming"
   ]
  },
  {
   "cell_type": "code",
   "execution_count": 63,
   "id": "7d8ed168",
   "metadata": {},
   "outputs": [],
   "source": [
    "# importing PorterStemmer algo\n",
    "from nltk.stem import PorterStemmer"
   ]
  },
  {
   "cell_type": "code",
   "execution_count": 62,
   "id": "a8c167d3",
   "metadata": {},
   "outputs": [],
   "source": [
    "class Stemmer():\n",
    "    # initializer\n",
    "    def __init__(self):\n",
    "        self.algo = PorterStemmer()\n",
    "    # caller\n",
    "    def __call__(self,doc):\n",
    "        return [ self.algo.stem(word) for sentence in doc.split('\\n') for word in sentence.split(' ') ]\n",
    "        "
   ]
  },
  {
   "cell_type": "code",
   "execution_count": 65,
   "id": "9816981e",
   "metadata": {},
   "outputs": [],
   "source": [
    "# Splitting the input and labels into train and test data\n",
    "X_train, X_test, y_train, y_test = train_test_split(inputs, labels, test_size = 0.3, random_state = 42)"
   ]
  },
  {
   "cell_type": "code",
   "execution_count": 64,
   "id": "33f103e6",
   "metadata": {},
   "outputs": [],
   "source": [
    "# create a new CountVectorizer with Stemming approach\n",
    "stem_vec = CountVectorizer(analyzer = 'word', ngram_range = (1,1), tokenizer = Stemmer())"
   ]
  },
  {
   "cell_type": "code",
   "execution_count": 66,
   "id": "1f0e4b84",
   "metadata": {},
   "outputs": [
    {
     "data": {
      "text/plain": [
       "<1557x42950 sparse matrix of type '<class 'numpy.int64'>'\n",
       "\twith 333485 stored elements in Compressed Sparse Row format>"
      ]
     },
     "execution_count": 66,
     "metadata": {},
     "output_type": "execute_result"
    }
   ],
   "source": [
    "# stemmed and vectorized\n",
    "Xtrain = stem_vec.fit_transform(X_train)\n",
    "Xtrain"
   ]
  },
  {
   "cell_type": "code",
   "execution_count": 67,
   "id": "c812e9cc",
   "metadata": {},
   "outputs": [
    {
     "data": {
      "text/plain": [
       "<668x42950 sparse matrix of type '<class 'numpy.int64'>'\n",
       "\twith 130898 stored elements in Compressed Sparse Row format>"
      ]
     },
     "execution_count": 67,
     "metadata": {},
     "output_type": "execute_result"
    }
   ],
   "source": [
    "# transforming the Test data\n",
    "Xtest = stem_vec.transform(X_test)\n",
    "Xtest"
   ]
  },
  {
   "cell_type": "code",
   "execution_count": 68,
   "id": "d3a6f2c5",
   "metadata": {},
   "outputs": [
    {
     "data": {
      "text/plain": [
       "MultinomialNB()"
      ]
     },
     "execution_count": 68,
     "metadata": {},
     "output_type": "execute_result"
    }
   ],
   "source": [
    "# Training a new model\n",
    "stem_NB = MultinomialNB()\n",
    "stem_NB.fit(Xtrain,y_train)"
   ]
  },
  {
   "cell_type": "code",
   "execution_count": 69,
   "id": "7ec960e4",
   "metadata": {},
   "outputs": [
    {
     "data": {
      "text/plain": [
       "array(['business', 'business', 'sport', 'business', 'politics', 'sport',\n",
       "       'sport', 'politics', 'sport', 'politics', 'business',\n",
       "       'entertainment', 'sport', 'business', 'entertainment', 'business',\n",
       "       'tech', 'entertainment', 'business', 'entertainment', 'business',\n",
       "       'sport', 'business', 'entertainment', 'business', 'sport',\n",
       "       'entertainment', 'sport', 'politics', 'sport', 'sport', 'politics',\n",
       "       'tech', 'entertainment', 'business', 'business', 'business',\n",
       "       'sport', 'tech', 'sport', 'tech', 'politics', 'business', 'sport',\n",
       "       'tech', 'tech', 'tech', 'business', 'business', 'tech',\n",
       "       'entertainment', 'business', 'politics', 'business',\n",
       "       'entertainment', 'politics', 'politics', 'politics', 'business',\n",
       "       'business', 'business', 'business', 'entertainment', 'politics',\n",
       "       'sport', 'entertainment', 'business', 'business', 'politics',\n",
       "       'sport', 'politics', 'politics', 'tech', 'sport', 'politics',\n",
       "       'sport', 'sport', 'entertainment', 'business', 'business', 'sport',\n",
       "       'sport', 'business', 'entertainment', 'entertainment', 'sport',\n",
       "       'sport', 'sport', 'entertainment', 'sport', 'sport', 'business',\n",
       "       'politics', 'business', 'sport', 'business', 'tech', 'tech',\n",
       "       'business', 'politics', 'business', 'politics', 'tech', 'business',\n",
       "       'sport', 'politics', 'sport', 'tech', 'entertainment', 'politics',\n",
       "       'business', 'tech', 'entertainment', 'business', 'politics',\n",
       "       'sport', 'entertainment', 'entertainment', 'entertainment',\n",
       "       'sport', 'politics', 'politics', 'business', 'politics', 'tech',\n",
       "       'tech', 'tech', 'entertainment', 'business', 'entertainment',\n",
       "       'sport', 'entertainment', 'entertainment', 'sport', 'sport',\n",
       "       'politics', 'business', 'business', 'entertainment', 'tech',\n",
       "       'tech', 'business', 'politics', 'business', 'tech',\n",
       "       'entertainment', 'tech', 'business', 'business', 'politics',\n",
       "       'sport', 'entertainment', 'business', 'tech', 'tech', 'sport',\n",
       "       'sport', 'entertainment', 'business', 'entertainment', 'tech',\n",
       "       'entertainment', 'business', 'politics', 'tech', 'entertainment',\n",
       "       'business', 'tech', 'tech', 'entertainment', 'politics', 'sport',\n",
       "       'tech', 'entertainment', 'sport', 'tech', 'politics', 'politics',\n",
       "       'business', 'sport', 'politics', 'sport', 'business', 'politics',\n",
       "       'tech', 'sport', 'entertainment', 'sport', 'tech', 'business',\n",
       "       'business', 'sport', 'entertainment', 'tech', 'tech', 'politics',\n",
       "       'politics', 'politics', 'sport', 'tech', 'sport', 'entertainment',\n",
       "       'business', 'tech', 'business', 'politics', 'sport', 'politics',\n",
       "       'sport', 'sport', 'sport', 'tech', 'tech', 'entertainment',\n",
       "       'sport', 'politics', 'tech', 'tech', 'business', 'tech',\n",
       "       'business', 'politics', 'business', 'entertainment', 'politics',\n",
       "       'politics', 'politics', 'politics', 'business', 'politics',\n",
       "       'sport', 'sport', 'entertainment', 'politics', 'tech', 'sport',\n",
       "       'entertainment', 'business', 'tech', 'tech', 'sport', 'business',\n",
       "       'politics', 'sport', 'business', 'business', 'business',\n",
       "       'business', 'sport', 'business', 'politics', 'sport', 'tech',\n",
       "       'business', 'entertainment', 'sport', 'entertainment', 'sport',\n",
       "       'sport', 'sport', 'politics', 'tech', 'business', 'entertainment',\n",
       "       'sport', 'business', 'politics', 'sport', 'business', 'business',\n",
       "       'business', 'business', 'business', 'entertainment', 'business',\n",
       "       'sport', 'entertainment', 'politics', 'tech', 'business',\n",
       "       'business', 'tech', 'business', 'business', 'business', 'tech',\n",
       "       'politics', 'sport', 'business', 'tech', 'business',\n",
       "       'entertainment', 'business', 'entertainment', 'politics',\n",
       "       'business', 'business', 'tech', 'business', 'tech', 'sport',\n",
       "       'politics', 'tech', 'politics', 'sport', 'entertainment',\n",
       "       'business', 'politics', 'tech', 'business', 'sport', 'politics',\n",
       "       'sport', 'tech', 'tech', 'tech', 'sport', 'business', 'sport',\n",
       "       'sport', 'politics', 'tech', 'tech', 'tech', 'entertainment',\n",
       "       'business', 'business', 'tech', 'sport', 'politics', 'politics',\n",
       "       'business', 'sport', 'business', 'politics', 'sport', 'politics',\n",
       "       'politics', 'sport', 'politics', 'business', 'sport', 'politics',\n",
       "       'business', 'entertainment', 'business', 'sport', 'entertainment',\n",
       "       'sport', 'tech', 'tech', 'tech', 'entertainment', 'entertainment',\n",
       "       'politics', 'sport', 'entertainment', 'sport', 'tech', 'tech',\n",
       "       'politics', 'tech', 'business', 'sport', 'sport', 'tech',\n",
       "       'politics', 'politics', 'business', 'tech', 'business', 'sport',\n",
       "       'tech', 'politics', 'tech', 'business', 'politics', 'politics',\n",
       "       'sport', 'tech', 'politics', 'sport', 'entertainment', 'business',\n",
       "       'business', 'sport', 'business', 'tech', 'tech', 'entertainment',\n",
       "       'politics', 'tech', 'sport', 'sport', 'sport', 'entertainment',\n",
       "       'sport', 'sport', 'politics', 'business', 'tech', 'sport',\n",
       "       'entertainment', 'entertainment', 'politics', 'business',\n",
       "       'business', 'entertainment', 'tech', 'tech', 'tech',\n",
       "       'entertainment', 'tech', 'sport', 'sport', 'sport', 'business',\n",
       "       'politics', 'tech', 'politics', 'business', 'politics', 'business',\n",
       "       'politics', 'sport', 'business', 'entertainment', 'politics',\n",
       "       'politics', 'politics', 'sport', 'sport', 'entertainment', 'tech',\n",
       "       'sport', 'tech', 'tech', 'sport', 'sport', 'politics',\n",
       "       'entertainment', 'business', 'politics', 'entertainment',\n",
       "       'business', 'sport', 'tech', 'sport', 'tech', 'entertainment',\n",
       "       'business', 'tech', 'business', 'entertainment', 'politics',\n",
       "       'politics', 'business', 'business', 'business', 'tech',\n",
       "       'entertainment', 'politics', 'business', 'sport', 'sport', 'tech',\n",
       "       'business', 'business', 'sport', 'tech', 'sport', 'politics',\n",
       "       'entertainment', 'tech', 'politics', 'sport', 'business', 'sport',\n",
       "       'sport', 'tech', 'entertainment', 'sport', 'sport', 'business',\n",
       "       'tech', 'tech', 'business', 'politics', 'entertainment',\n",
       "       'business', 'entertainment', 'entertainment', 'business',\n",
       "       'politics', 'business', 'sport', 'tech', 'sport', 'tech',\n",
       "       'politics', 'politics', 'entertainment', 'tech', 'politics',\n",
       "       'tech', 'business', 'business', 'business', 'entertainment',\n",
       "       'sport', 'entertainment', 'sport', 'tech', 'business', 'politics',\n",
       "       'politics', 'sport', 'tech', 'entertainment', 'entertainment',\n",
       "       'business', 'entertainment', 'business', 'business', 'business',\n",
       "       'entertainment', 'sport', 'tech', 'tech', 'entertainment', 'sport',\n",
       "       'politics', 'business', 'business', 'politics', 'tech', 'tech',\n",
       "       'politics', 'politics', 'tech', 'sport', 'entertainment', 'tech',\n",
       "       'tech', 'tech', 'politics', 'entertainment', 'business',\n",
       "       'entertainment', 'business', 'tech', 'entertainment',\n",
       "       'entertainment', 'politics', 'politics', 'sport', 'entertainment',\n",
       "       'business', 'politics', 'sport', 'sport', 'politics', 'politics',\n",
       "       'business', 'tech', 'entertainment', 'business', 'sport', 'sport',\n",
       "       'tech', 'politics', 'sport', 'business', 'politics', 'business',\n",
       "       'politics', 'entertainment', 'business', 'tech', 'sport', 'sport',\n",
       "       'politics', 'tech', 'entertainment', 'politics', 'business',\n",
       "       'entertainment', 'entertainment', 'sport', 'sport', 'business',\n",
       "       'business', 'politics', 'tech', 'tech', 'tech', 'business',\n",
       "       'entertainment', 'entertainment', 'politics', 'entertainment',\n",
       "       'entertainment', 'politics', 'sport', 'entertainment', 'sport',\n",
       "       'business', 'tech', 'politics', 'politics', 'business', 'sport',\n",
       "       'business', 'entertainment', 'business', 'politics', 'tech',\n",
       "       'tech', 'business', 'sport', 'business', 'politics',\n",
       "       'entertainment', 'business', 'business', 'entertainment', 'tech',\n",
       "       'business', 'business', 'tech', 'business', 'sport', 'business',\n",
       "       'politics', 'sport', 'entertainment', 'politics', 'sport', 'tech',\n",
       "       'sport', 'tech', 'entertainment', 'politics', 'entertainment',\n",
       "       'tech', 'entertainment', 'entertainment', 'tech', 'tech', 'tech',\n",
       "       'entertainment', 'tech', 'politics', 'politics', 'politics',\n",
       "       'politics', 'entertainment', 'politics', 'entertainment',\n",
       "       'business', 'politics', 'sport', 'entertainment', 'politics',\n",
       "       'tech', 'entertainment', 'entertainment', 'tech'], dtype='<U13')"
      ]
     },
     "execution_count": 69,
     "metadata": {},
     "output_type": "execute_result"
    }
   ],
   "source": [
    "y_predict = stem_NB.predict(Xtest)\n",
    "y_predict"
   ]
  },
  {
   "cell_type": "code",
   "execution_count": 70,
   "id": "1c54892b",
   "metadata": {},
   "outputs": [
    {
     "name": "stdout",
     "output_type": "stream",
     "text": [
      "Train score :  0.9948619139370585\n",
      "Test score :  0.9670658682634731\n"
     ]
    }
   ],
   "source": [
    "print('Train score : ', stem_NB.score(Xtrain,y_train))\n",
    "print('Test score : ', stem_NB.score(Xtest,y_test))"
   ]
  },
  {
   "cell_type": "markdown",
   "id": "4af15ef5",
   "metadata": {},
   "source": [
    "# Using Lemmatization\n"
   ]
  },
  {
   "cell_type": "code",
   "execution_count": 72,
   "id": "d1883b9a",
   "metadata": {},
   "outputs": [],
   "source": [
    "# importing the WordNetLemmatizer from nltk\n",
    "from nltk.stem import WordNetLemmatizer"
   ]
  },
  {
   "cell_type": "code",
   "execution_count": 100,
   "id": "d72f55cc",
   "metadata": {},
   "outputs": [],
   "source": [
    "# creating a function to map the parts of speech\n",
    "\n",
    "def pos_ladder(tag):\n",
    "    if tag.startswith('J'):\n",
    "        return wordnet.ADJ\n",
    "    elif tag.startswith('V'):\n",
    "        return wordnet.VERB\n",
    "    elif tag.startswith('R'):\n",
    "        return wordnet.ADV\n",
    "    elif tag.startswith('N'):\n",
    "        return wordnet.NOUN\n",
    "    elif tag.startswith('D'):\n",
    "        return wordnet.ADJ\n",
    "    elif tag.startswith('P'):\n",
    "        return wordnet.NOUN\n",
    "    else:\n",
    "        return wordnet.NOUN"
   ]
  },
  {
   "cell_type": "code",
   "execution_count": 96,
   "id": "5bda1216",
   "metadata": {},
   "outputs": [],
   "source": [
    "# creating a callable Lemmatizer class\n",
    "class Lemmatizer():\n",
    "    def __init__(self):\n",
    "        self.algo = WordNetLemmatizer()\n",
    "    \n",
    "    def __call__(self,doc):\n",
    "        return [self.algo.lemmatize(word, pos = pos_ladder(tag)) for sentence in doc.split('\\n') for word, tag in nltk.pos_tag(doc.split(' '))]"
   ]
  },
  {
   "cell_type": "code",
   "execution_count": 97,
   "id": "3ff8c086",
   "metadata": {},
   "outputs": [],
   "source": [
    "# creating a CountVectorizer object\n",
    "lemma_vec = CountVectorizer(analyzer = 'word', ngram_range = (1,1), tokenizer = Lemmatizer())"
   ]
  },
  {
   "cell_type": "code",
   "execution_count": 98,
   "id": "2370b36b",
   "metadata": {},
   "outputs": [],
   "source": [
    "# Splitting the input and labels into train and test data\n",
    "X_train, X_test, y_train, y_test = train_test_split(inputs, labels, test_size = 0.3, random_state = 42)"
   ]
  },
  {
   "cell_type": "code",
   "execution_count": 101,
   "id": "7a9b5878",
   "metadata": {
    "scrolled": true
   },
   "outputs": [
    {
     "data": {
      "text/plain": [
       "<1557x50689 sparse matrix of type '<class 'numpy.int64'>'\n",
       "\twith 324050 stored elements in Compressed Sparse Row format>"
      ]
     },
     "execution_count": 101,
     "metadata": {},
     "output_type": "execute_result"
    }
   ],
   "source": [
    "Xtrain = lemma_vec.fit_transform(X_train)\n",
    "Xtrain"
   ]
  },
  {
   "cell_type": "markdown",
   "id": "493f0be9",
   "metadata": {},
   "source": [
    "for word, tag in nltk.pos_tag('I am a king!'.split(' ')):\n",
    "    print(word, tag)"
   ]
  },
  {
   "cell_type": "code",
   "execution_count": 102,
   "id": "27267de7",
   "metadata": {},
   "outputs": [
    {
     "data": {
      "text/plain": [
       "<668x50689 sparse matrix of type '<class 'numpy.int64'>'\n",
       "\twith 124108 stored elements in Compressed Sparse Row format>"
      ]
     },
     "execution_count": 102,
     "metadata": {},
     "output_type": "execute_result"
    }
   ],
   "source": [
    "Xtest = lemma_vec.transform(X_test)\n",
    "Xtest"
   ]
  },
  {
   "cell_type": "code",
   "execution_count": 103,
   "id": "f9ef8834",
   "metadata": {},
   "outputs": [
    {
     "data": {
      "text/plain": [
       "MultinomialNB()"
      ]
     },
     "execution_count": 103,
     "metadata": {},
     "output_type": "execute_result"
    }
   ],
   "source": [
    "# Creation and training of model\n",
    "lemma_NB = MultinomialNB()\n",
    "lemma_NB.fit(Xtrain,y_train)"
   ]
  },
  {
   "cell_type": "code",
   "execution_count": 104,
   "id": "e2a914ff",
   "metadata": {},
   "outputs": [
    {
     "data": {
      "text/plain": [
       "array(['business', 'business', 'sport', 'business', 'politics', 'sport',\n",
       "       'sport', 'politics', 'entertainment', 'politics', 'business',\n",
       "       'entertainment', 'sport', 'business', 'entertainment', 'business',\n",
       "       'tech', 'entertainment', 'business', 'entertainment', 'business',\n",
       "       'sport', 'business', 'entertainment', 'business', 'sport',\n",
       "       'entertainment', 'sport', 'politics', 'sport', 'sport', 'politics',\n",
       "       'tech', 'entertainment', 'business', 'business', 'business',\n",
       "       'sport', 'tech', 'sport', 'tech', 'politics', 'business', 'sport',\n",
       "       'tech', 'tech', 'tech', 'business', 'business', 'tech',\n",
       "       'entertainment', 'business', 'politics', 'business',\n",
       "       'entertainment', 'politics', 'politics', 'politics', 'business',\n",
       "       'business', 'business', 'business', 'entertainment', 'business',\n",
       "       'sport', 'entertainment', 'business', 'business', 'politics',\n",
       "       'sport', 'politics', 'politics', 'tech', 'sport', 'business',\n",
       "       'sport', 'sport', 'entertainment', 'business', 'business', 'sport',\n",
       "       'sport', 'business', 'entertainment', 'entertainment', 'sport',\n",
       "       'sport', 'sport', 'entertainment', 'sport', 'sport', 'business',\n",
       "       'politics', 'business', 'sport', 'business', 'tech',\n",
       "       'entertainment', 'business', 'politics', 'business', 'politics',\n",
       "       'tech', 'business', 'sport', 'politics', 'sport', 'tech',\n",
       "       'entertainment', 'politics', 'business', 'tech', 'entertainment',\n",
       "       'business', 'politics', 'sport', 'entertainment', 'entertainment',\n",
       "       'entertainment', 'sport', 'politics', 'politics', 'business',\n",
       "       'politics', 'tech', 'tech', 'tech', 'entertainment', 'business',\n",
       "       'entertainment', 'sport', 'entertainment', 'entertainment',\n",
       "       'sport', 'sport', 'politics', 'business', 'business',\n",
       "       'entertainment', 'tech', 'tech', 'business', 'politics',\n",
       "       'business', 'tech', 'entertainment', 'tech', 'business',\n",
       "       'business', 'politics', 'sport', 'entertainment', 'business',\n",
       "       'tech', 'tech', 'sport', 'sport', 'entertainment', 'business',\n",
       "       'entertainment', 'tech', 'entertainment', 'business', 'politics',\n",
       "       'tech', 'entertainment', 'business', 'tech', 'tech',\n",
       "       'entertainment', 'politics', 'sport', 'tech', 'entertainment',\n",
       "       'sport', 'tech', 'politics', 'politics', 'business', 'sport',\n",
       "       'politics', 'sport', 'business', 'politics', 'tech', 'sport',\n",
       "       'entertainment', 'sport', 'tech', 'business', 'business', 'sport',\n",
       "       'entertainment', 'tech', 'tech', 'entertainment', 'politics',\n",
       "       'politics', 'sport', 'tech', 'sport', 'entertainment', 'business',\n",
       "       'tech', 'business', 'politics', 'sport', 'politics', 'sport',\n",
       "       'sport', 'sport', 'tech', 'tech', 'entertainment', 'sport',\n",
       "       'politics', 'tech', 'tech', 'business', 'tech', 'business',\n",
       "       'politics', 'business', 'entertainment', 'politics', 'politics',\n",
       "       'politics', 'politics', 'business', 'politics', 'sport', 'sport',\n",
       "       'entertainment', 'politics', 'tech', 'sport', 'entertainment',\n",
       "       'business', 'tech', 'tech', 'sport', 'business', 'politics',\n",
       "       'sport', 'business', 'business', 'business', 'business', 'sport',\n",
       "       'business', 'politics', 'sport', 'tech', 'business',\n",
       "       'entertainment', 'sport', 'entertainment', 'sport', 'sport',\n",
       "       'sport', 'politics', 'tech', 'business', 'entertainment', 'sport',\n",
       "       'business', 'politics', 'sport', 'business', 'business',\n",
       "       'business', 'business', 'business', 'entertainment', 'business',\n",
       "       'sport', 'entertainment', 'politics', 'tech', 'business',\n",
       "       'business', 'tech', 'business', 'business', 'business', 'tech',\n",
       "       'politics', 'sport', 'business', 'tech', 'business',\n",
       "       'entertainment', 'business', 'entertainment', 'politics',\n",
       "       'business', 'business', 'tech', 'business', 'tech', 'sport',\n",
       "       'politics', 'tech', 'politics', 'sport', 'entertainment',\n",
       "       'business', 'politics', 'tech', 'business', 'sport', 'politics',\n",
       "       'sport', 'tech', 'tech', 'tech', 'sport', 'business', 'sport',\n",
       "       'sport', 'politics', 'tech', 'tech', 'tech', 'entertainment',\n",
       "       'business', 'business', 'tech', 'sport', 'politics', 'politics',\n",
       "       'business', 'sport', 'business', 'entertainment', 'sport',\n",
       "       'politics', 'politics', 'sport', 'politics', 'business', 'sport',\n",
       "       'tech', 'business', 'entertainment', 'business', 'sport',\n",
       "       'entertainment', 'sport', 'tech', 'tech', 'tech', 'entertainment',\n",
       "       'entertainment', 'politics', 'sport', 'entertainment', 'sport',\n",
       "       'tech', 'tech', 'politics', 'tech', 'business', 'sport', 'sport',\n",
       "       'tech', 'politics', 'politics', 'business', 'tech', 'business',\n",
       "       'sport', 'tech', 'politics', 'tech', 'business', 'politics',\n",
       "       'politics', 'sport', 'tech', 'politics', 'sport', 'entertainment',\n",
       "       'business', 'business', 'sport', 'business', 'tech', 'tech',\n",
       "       'entertainment', 'politics', 'tech', 'sport', 'sport', 'sport',\n",
       "       'entertainment', 'sport', 'sport', 'politics', 'business', 'tech',\n",
       "       'sport', 'entertainment', 'entertainment', 'politics', 'business',\n",
       "       'business', 'entertainment', 'tech', 'tech', 'tech',\n",
       "       'entertainment', 'tech', 'sport', 'sport', 'sport', 'business',\n",
       "       'politics', 'tech', 'politics', 'business', 'politics', 'business',\n",
       "       'politics', 'sport', 'business', 'entertainment', 'politics',\n",
       "       'politics', 'politics', 'sport', 'sport', 'entertainment', 'tech',\n",
       "       'sport', 'tech', 'tech', 'sport', 'sport', 'politics',\n",
       "       'entertainment', 'business', 'politics', 'entertainment',\n",
       "       'business', 'sport', 'tech', 'sport', 'tech', 'entertainment',\n",
       "       'business', 'tech', 'business', 'entertainment', 'politics',\n",
       "       'politics', 'business', 'business', 'business', 'tech',\n",
       "       'entertainment', 'politics', 'business', 'sport', 'sport', 'tech',\n",
       "       'business', 'business', 'sport', 'tech', 'sport', 'politics',\n",
       "       'entertainment', 'tech', 'politics', 'sport', 'business', 'sport',\n",
       "       'sport', 'tech', 'entertainment', 'sport', 'sport', 'business',\n",
       "       'tech', 'tech', 'business', 'politics', 'entertainment',\n",
       "       'business', 'entertainment', 'entertainment', 'business',\n",
       "       'politics', 'business', 'sport', 'tech', 'sport', 'tech',\n",
       "       'politics', 'politics', 'entertainment', 'tech', 'politics',\n",
       "       'tech', 'business', 'business', 'business', 'entertainment',\n",
       "       'sport', 'entertainment', 'sport', 'tech', 'business', 'politics',\n",
       "       'politics', 'sport', 'tech', 'entertainment', 'entertainment',\n",
       "       'business', 'entertainment', 'business', 'business', 'business',\n",
       "       'entertainment', 'sport', 'tech', 'tech', 'entertainment', 'sport',\n",
       "       'politics', 'business', 'business', 'politics', 'tech', 'tech',\n",
       "       'politics', 'politics', 'tech', 'sport', 'entertainment', 'tech',\n",
       "       'business', 'tech', 'politics', 'entertainment', 'business',\n",
       "       'entertainment', 'business', 'tech', 'entertainment',\n",
       "       'entertainment', 'politics', 'politics', 'sport', 'entertainment',\n",
       "       'business', 'politics', 'sport', 'sport', 'politics', 'politics',\n",
       "       'business', 'tech', 'entertainment', 'business', 'sport', 'sport',\n",
       "       'business', 'politics', 'sport', 'business', 'politics',\n",
       "       'business', 'politics', 'entertainment', 'business', 'tech',\n",
       "       'sport', 'sport', 'politics', 'tech', 'entertainment', 'politics',\n",
       "       'business', 'entertainment', 'entertainment', 'sport', 'sport',\n",
       "       'business', 'business', 'politics', 'tech', 'tech', 'business',\n",
       "       'business', 'entertainment', 'entertainment', 'politics',\n",
       "       'entertainment', 'entertainment', 'politics', 'sport',\n",
       "       'entertainment', 'sport', 'business', 'tech', 'politics',\n",
       "       'politics', 'business', 'sport', 'business', 'entertainment',\n",
       "       'business', 'politics', 'tech', 'tech', 'business', 'sport',\n",
       "       'business', 'politics', 'entertainment', 'business', 'business',\n",
       "       'entertainment', 'tech', 'business', 'business', 'tech',\n",
       "       'business', 'sport', 'business', 'politics', 'sport',\n",
       "       'entertainment', 'politics', 'sport', 'tech', 'sport', 'tech',\n",
       "       'entertainment', 'politics', 'entertainment', 'tech',\n",
       "       'entertainment', 'entertainment', 'tech', 'tech', 'tech',\n",
       "       'entertainment', 'tech', 'politics', 'politics', 'politics',\n",
       "       'politics', 'entertainment', 'politics', 'entertainment',\n",
       "       'business', 'politics', 'sport', 'entertainment', 'politics',\n",
       "       'tech', 'entertainment', 'entertainment', 'tech'], dtype='<U13')"
      ]
     },
     "execution_count": 104,
     "metadata": {},
     "output_type": "execute_result"
    }
   ],
   "source": [
    "#Prediction\n",
    "lemma_NB.predict(Xtest)"
   ]
  },
  {
   "cell_type": "code",
   "execution_count": 105,
   "id": "1f3c2d29",
   "metadata": {},
   "outputs": [
    {
     "name": "stdout",
     "output_type": "stream",
     "text": [
      "Train Score :  1.0\n",
      "Test Score :  0.9760479041916168\n"
     ]
    }
   ],
   "source": [
    "print('Train Score : ', lemma_NB.score(Xtrain,y_train))\n",
    "print('Test Score : ', lemma_NB.score(Xtest, y_test))"
   ]
  },
  {
   "cell_type": "code",
   "execution_count": 106,
   "id": "b00ffe5d",
   "metadata": {},
   "outputs": [
    {
     "data": {
      "text/plain": [
       "50689"
      ]
     },
     "execution_count": 106,
     "metadata": {},
     "output_type": "execute_result"
    }
   ],
   "source": [
    "# Feature names\n",
    "len(lemma_vec.get_feature_names_out())"
   ]
  },
  {
   "cell_type": "markdown",
   "id": "bcf78fcd",
   "metadata": {},
   "source": [
    "lemmaSamp = WordNetLemmatizer()"
   ]
  },
  {
   "cell_type": "markdown",
   "id": "26a9d74f",
   "metadata": {},
   "source": [
    "# Checking the lemmatizer\n",
    "[lemmaSamp.lemmatize(word, pos = pos_ladder(tag)) for sentence in inputs[1].split('\\n') for word, tag in nltk.pos_tag(sentence.split(' '))]"
   ]
  }
 ],
 "metadata": {
  "kernelspec": {
   "display_name": "Python 3",
   "language": "python",
   "name": "python3"
  },
  "language_info": {
   "codemirror_mode": {
    "name": "ipython",
    "version": 3
   },
   "file_extension": ".py",
   "mimetype": "text/x-python",
   "name": "python",
   "nbconvert_exporter": "python",
   "pygments_lexer": "ipython3",
   "version": "3.8.8"
  }
 },
 "nbformat": 4,
 "nbformat_minor": 5
}
