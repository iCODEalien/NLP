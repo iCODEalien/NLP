{
 "cells": [
  {
   "cell_type": "code",
   "execution_count": 1,
   "id": "aba84dc5",
   "metadata": {},
   "outputs": [],
   "source": [
    "from scipy.sparse import csr_matrix\n",
    "import numpy as np\n",
    "import pandas as pd"
   ]
  },
  {
   "cell_type": "code",
   "execution_count": 6,
   "id": "e117419f",
   "metadata": {},
   "outputs": [],
   "source": [
    "# our count matrix\n",
    "count_matrix = [[112, 13, 14, 0, 9, 0, 0 ,18],\n",
    "               [119, 0, 0, 5, 2, 45, 23, 0],\n",
    "               [2, 4, 0, 0, 0, 0, 0, 0],\n",
    "               [0, 0, 0 ,0 ,0, 0, 0, 8]]"
   ]
  },
  {
   "cell_type": "code",
   "execution_count": 11,
   "id": "1be95ca0",
   "metadata": {},
   "outputs": [
    {
     "name": "stdout",
     "output_type": "stream",
     "text": [
      "(4, 8)\n"
     ]
    },
    {
     "data": {
      "text/plain": [
       "array([[112,  13,  14,   0,   9,   0,   0,  18],\n",
       "       [119,   0,   0,   5,   2,  45,  23,   0],\n",
       "       [  2,   4,   0,   0,   0,   0,   0,   0],\n",
       "       [  0,   0,   0,   0,   0,   0,   0,   8]])"
      ]
     },
     "execution_count": 11,
     "metadata": {},
     "output_type": "execute_result"
    }
   ],
   "source": [
    "# creating a dense matrix\n",
    "dense_matrix = np.array(count_matrix)\n",
    "print(dense_matrix.shape)\n",
    "dense_matrix"
   ]
  },
  {
   "cell_type": "code",
   "execution_count": 49,
   "id": "b69bbef3",
   "metadata": {},
   "outputs": [
    {
     "name": "stdout",
     "output_type": "stream",
     "text": [
      " Data Array  :    [112  13  14   9  18 119   5   2  45  23   2   4   8]\n",
      "  Indices Array :  [0 1 2 4 7 0 3 4 5 6 0 1 7]\n",
      "   indptr Array :  [ 0  5 10 12 13]\n",
      "Length of Data Array :  13\n",
      "  Length of indices Array :  13\n",
      "   Length of indptr Array :  5\n",
      " Length of Indices and Data Array are equal :  True\n"
     ]
    }
   ],
   "source": [
    "# lets print all the non zero elements in the array\n",
    "data_array = []\n",
    "indices_array = []\n",
    "indptr_array = [0]\n",
    "indptr_value = 0\n",
    "\n",
    "for i in range(dense_matrix.shape[0]):\n",
    "    # creating empty lists for data and indices\n",
    "    vector_data = []\n",
    "    data_index_vec = []\n",
    "    \n",
    "    for j in range(dense_matrix.shape[1]):\n",
    "        if dense_matrix[i][j] > 0:\n",
    "            #print('element : ',dense_matrix[i][j], '   row:  ', i, '   column:  ',j)\n",
    "            \n",
    "            #appending the data and index and incrementing the Indptr value \n",
    "            vector_data.append(dense_matrix[i][j])\n",
    "            data_index_vec.append(j)\n",
    "            indptr_value += 1\n",
    "            \n",
    "    #print('Vector Data : ',vector_data)\n",
    "    \n",
    "    # concatenating the list from the loops to the data, index and appending the indptr value to indptr list.\n",
    "    data_array += vector_data\n",
    "    indices_array += data_index_vec\n",
    "    indptr_array.append(indptr_value)\n",
    "\n",
    "indptr_array.pop()\n",
    "indptr_array.append(len(data_array))\n",
    "\n",
    "# shape of the csr matrix\n",
    "shape = (len(indptr_array)-1,max(indices_array)+1)\n",
    "    \n",
    "print(' Data Array  :   ', np.array(data_array))\n",
    "print('  Indices Array : ', np.array(indices_array))\n",
    "print('   indptr Array : ', np.array(indptr_array))\n",
    "print('Length of Data Array : ', len(data_array))\n",
    "print('  Length of indices Array : ', len(indices_array))\n",
    "print('   Length of indptr Array : ', len(indptr_array))\n",
    "print(' Length of Indices and Data Array are equal : ', len(data_array) == len(indices_array))\n",
    "            "
   ]
  },
  {
   "cell_type": "code",
   "execution_count": 52,
   "id": "ab487fc0",
   "metadata": {},
   "outputs": [],
   "source": [
    "def csr_info(dense_matrix):\n",
    "    data_array = []\n",
    "    indices_array = []\n",
    "    indptr_array = [0]\n",
    "    indptr_value = 0\n",
    "\n",
    "    for i in range(dense_matrix.shape[0]):\n",
    "        vector_data = []\n",
    "        data_index_vec = []\n",
    "    \n",
    "        for j in range(dense_matrix.shape[1]):\n",
    "            if dense_matrix[i][j] > 0:\n",
    "                #print('element : ',dense_matrix[i][j], '   row:  ', i, '   column:  ',j)\n",
    "                vector_data.append(dense_matrix[i][j])\n",
    "                data_index_vec.append(j)\n",
    "                indptr_value += 1\n",
    "            \n",
    "        #print('Vector Data : ',vector_data)\n",
    "    \n",
    "        data_array += vector_data\n",
    "        indices_array += data_index_vec\n",
    "        indptr_array.append(indptr_value)\n",
    "    \n",
    "    indptr_array.pop()\n",
    "    indptr_array.append(len(data_array))\n",
    "    \n",
    "    # shape of the csr matrix\n",
    "    shape = (len(indptr_array)-1,max(indices_array)+1)\n",
    "    \n",
    "    print(f\"\"\"Data Array  :   {np.array(data_array)}\n",
    "  Indices Array : {np.array(indices_array)}\n",
    "    indptr Array :  {np.array(indptr_array)}\n",
    "Length of Data Array : {len(data_array)}\n",
    "  Length of indices Array : {len(indices_array)}\n",
    "    Length of indptr Array : {len(indptr_array)}\n",
    "Length of Indices and Data Array are equal : {len(data_array) == len(indices_array)}\n",
    "Shape of CSR : {shape}\"\"\")\n",
    "    \n",
    "    return np.array(data_array),np.array(indices_array),np.array(indptr_array), shape\n",
    "    \n",
    "    "
   ]
  },
  {
   "cell_type": "code",
   "execution_count": 42,
   "id": "2cef7187",
   "metadata": {},
   "outputs": [
    {
     "data": {
      "text/plain": [
       "array([[ 1,  2,  3,  0,  0,  0],\n",
       "       [13,  4, 12,  5,  2,  1],\n",
       "       [13, 23, 23, 43, 12, 32]])"
      ]
     },
     "execution_count": 42,
     "metadata": {},
     "output_type": "execute_result"
    }
   ],
   "source": [
    "dens_mat1 = np.array([[1,2,3,0,0,0],\n",
    "            [13,4,12,5,2,1],\n",
    "            [13,23,23,43,12,32]])\n",
    "dens_mat1\n"
   ]
  },
  {
   "cell_type": "code",
   "execution_count": 53,
   "id": "b356d434",
   "metadata": {},
   "outputs": [
    {
     "name": "stdout",
     "output_type": "stream",
     "text": [
      "Data Array  :   [ 1  2  3 13  4 12  5  2  1 13 23 23 43 12 32]\n",
      "  Indices Array : [0 1 2 0 1 2 3 4 5 0 1 2 3 4 5]\n",
      "    indptr Array :  [ 0  3  9 15]\n",
      "Length of Data Array : 15\n",
      "  Length of indices Array : 15\n",
      "    Length of indptr Array : 4\n",
      "Length of Indices and Data Array are equal : True\n",
      "Shape of CSR : (3, 6)\n",
      "[ 1  2  3 13  4 12  5  2  1 13 23 23 43 12 32]\n",
      "[0 1 2 0 1 2 3 4 5 0 1 2 3 4 5]\n",
      "[ 0  3  9 15]\n",
      "(3, 6)\n"
     ]
    }
   ],
   "source": [
    "Data_array, indices_array, indptr_array, shape = csr_info(dens_mat1)\n",
    "\n",
    "print(Data_array)\n",
    "print(indices_array)\n",
    "print(indptr_array)\n",
    "print(shape)"
   ]
  },
  {
   "cell_type": "code",
   "execution_count": 54,
   "id": "0f662a17",
   "metadata": {},
   "outputs": [
    {
     "data": {
      "text/plain": [
       "<3x6 sparse matrix of type '<class 'numpy.int32'>'\n",
       "\twith 15 stored elements in Compressed Sparse Row format>"
      ]
     },
     "execution_count": 54,
     "metadata": {},
     "output_type": "execute_result"
    }
   ],
   "source": [
    "# Validating \n",
    "csr_mat =csr_matrix((Data_array,indices_array,indptr_array), shape = shape)\n",
    "csr_mat"
   ]
  },
  {
   "cell_type": "code",
   "execution_count": 57,
   "id": "9cf7e6d7",
   "metadata": {},
   "outputs": [
    {
     "data": {
      "text/plain": [
       "array([[ 1,  2,  3,  0,  0,  0],\n",
       "       [13,  4, 12,  5,  2,  1],\n",
       "       [13, 23, 23, 43, 12, 32]])"
      ]
     },
     "execution_count": 57,
     "metadata": {},
     "output_type": "execute_result"
    }
   ],
   "source": [
    "csr_to_dense = csr_mat.toarray()\n",
    "csr_to_dense"
   ]
  },
  {
   "cell_type": "code",
   "execution_count": 60,
   "id": "7145b348",
   "metadata": {},
   "outputs": [
    {
     "name": "stdout",
     "output_type": "stream",
     "text": [
      "They are the same, hence Validated\n"
     ]
    }
   ],
   "source": [
    "if (csr_to_dense == dens_mat1).all():\n",
    "    print('They are the same, hence Validated')\n",
    "else:\n",
    "    print('They are not the same, Error')"
   ]
  }
 ],
 "metadata": {
  "kernelspec": {
   "display_name": "Python 3",
   "language": "python",
   "name": "python3"
  },
  "language_info": {
   "codemirror_mode": {
    "name": "ipython",
    "version": 3
   },
   "file_extension": ".py",
   "mimetype": "text/x-python",
   "name": "python",
   "nbconvert_exporter": "python",
   "pygments_lexer": "ipython3",
   "version": "3.8.8"
  }
 },
 "nbformat": 4,
 "nbformat_minor": 5
}
