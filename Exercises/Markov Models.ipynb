{
 "cells": [
  {
   "cell_type": "code",
   "execution_count": 1,
   "id": "df09c1aa",
   "metadata": {},
   "outputs": [],
   "source": [
    "import numpy as np\n",
    "import pandas as pd\n",
    "import math"
   ]
  },
  {
   "cell_type": "code",
   "execution_count": 2,
   "id": "dce71e7f",
   "metadata": {},
   "outputs": [],
   "source": [
    "# list of sentences\n",
    "\n",
    "list_of_sentences = ['I hate eggs',\n",
    "                    'I like Bacon and Jam',\n",
    "                    'Ben likes chicken sandwich']"
   ]
  },
  {
   "cell_type": "code",
   "execution_count": 5,
   "id": "c6a7f708",
   "metadata": {},
   "outputs": [
    {
     "name": "stdout",
     "output_type": "stream",
     "text": [
      "11 ['eggs', 'and', 'like', 'chicken', 'hate', 'i', 'likes', 'jam', 'sandwich', 'ben', 'bacon']\n"
     ]
    }
   ],
   "source": [
    "# vocabulary\n",
    "Vocabulary = list(set([ word.lower() for sentence in list_of_sentences for word in sentence.split()]))\n",
    "print(len(Vocabulary), Vocabulary)"
   ]
  },
  {
   "cell_type": "code",
   "execution_count": 8,
   "id": "d0c5b89b",
   "metadata": {},
   "outputs": [],
   "source": [
    "# count_of words\n",
    "def count_of_words(tokenized_sentences):\n",
    "    count_dict = {}\n",
    "    for sentence in tokenized_sentences:\n",
    "        for token in Vocabulary:\n",
    "            similar_words = [word.lower() for word in sentence if word.lower() == token]\n",
    "        \n",
    "            if count_dict.get(token):\n",
    "                count_dict[token] += len(similar_words)\n",
    "            else:\n",
    "                count_dict[token] = 0 if len(similar_words) == 0 else len(similar_words)\n",
    "    \n",
    "    return count_dict\n"
   ]
  },
  {
   "cell_type": "code",
   "execution_count": 9,
   "id": "0750de7c",
   "metadata": {},
   "outputs": [
    {
     "name": "stdout",
     "output_type": "stream",
     "text": [
      "{'eggs': 1, 'and': 1, 'like': 1, 'chicken': 1, 'hate': 1, 'i': 2, 'likes': 1, 'jam': 1, 'sandwich': 1, 'ben': 1, 'bacon': 1}\n"
     ]
    }
   ],
   "source": [
    "# sentences that are tokenized in a list\n",
    "tokenized_sentences = [sentence.split() for sentence in list_of_sentences]\n",
    "\n",
    "# each word and its count in the corpus\n",
    "word_count = count_of_words(tokenized_sentences)\n",
    "print(word_count)"
   ]
  },
  {
   "cell_type": "code",
   "execution_count": 14,
   "id": "ab63da19",
   "metadata": {},
   "outputs": [],
   "source": [
    "# now we need to find count for each time a sentence is started with a word from the vocabulary\n",
    "# store the count for that particular word\n",
    "\n",
    "def startswith_count(list_of_sentences, Vocabulary):\n",
    "    # setting up the dict\n",
    "    start_word_count = {key:0 for key in Vocabulary}\n",
    "    \n",
    "    for sentence in list_of_sentences:\n",
    "        for word in Vocabulary:\n",
    "            #print(word)\n",
    "            #print(start_word_count[word])\n",
    "            if sentence.startswith(word.capitalize()):\n",
    "                start_word_count[word] += 1\n",
    "    \n",
    "    return start_word_count\n",
    "            "
   ]
  },
  {
   "cell_type": "code",
   "execution_count": 18,
   "id": "17df6e99",
   "metadata": {},
   "outputs": [
    {
     "data": {
      "text/plain": [
       "{'eggs': 0,\n",
       " 'and': 0,\n",
       " 'like': 0,\n",
       " 'chicken': 0,\n",
       " 'hate': 0,\n",
       " 'i': 2,\n",
       " 'likes': 0,\n",
       " 'jam': 0,\n",
       " 'sandwich': 0,\n",
       " 'ben': 1,\n",
       " 'bacon': 0}"
      ]
     },
     "execution_count": 18,
     "metadata": {},
     "output_type": "execute_result"
    }
   ],
   "source": [
    "# validating\n",
    "# this will be our Inital State Distribuion vector once we divide it by the total number of sentences.\n",
    "start_word_count = startswith_count(list_of_sentences, Vocabulary)\n",
    "start_word_count"
   ]
  }
 ],
 "metadata": {
  "kernelspec": {
   "display_name": "Python 3",
   "language": "python",
   "name": "python3"
  },
  "language_info": {
   "codemirror_mode": {
    "name": "ipython",
    "version": 3
   },
   "file_extension": ".py",
   "mimetype": "text/x-python",
   "name": "python",
   "nbconvert_exporter": "python",
   "pygments_lexer": "ipython3",
   "version": "3.8.8"
  }
 },
 "nbformat": 4,
 "nbformat_minor": 5
}
